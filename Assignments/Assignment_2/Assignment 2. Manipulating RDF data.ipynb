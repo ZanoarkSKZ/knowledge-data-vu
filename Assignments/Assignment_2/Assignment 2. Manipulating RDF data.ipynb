{
 "cells": [
  {
   "cell_type": "markdown",
   "metadata": {},
   "source": [
    "# Knowledge and Data: Practical Assignment 2\n",
    "## Manipulate local and external RDF Knowledge Graphs "
   ]
  },
  {
   "cell_type": "markdown",
   "metadata": {},
   "source": [
    "YOUR NAME: Zayne Melendez\n",
    "\n",
    "YOUR VUNetID: zme209\n",
    "\n",
    "*(If you do not provide your name and VUNetID we will not accept your submission).*"
   ]
  },
  {
   "cell_type": "markdown",
   "metadata": {},
   "source": [
    "### Learning objectives"
   ]
  },
  {
   "cell_type": "markdown",
   "metadata": {},
   "source": [
    "At the end of this exercise you should be able to perform some simple manipulations of RDF Data using the rdflib library. You should be able to: \n",
    "\n",
    "1. Add and retrieve information from a local RDF database\n",
    "2. Represent RDF data in other formats, such as the .dot format for graph visualisation\n",
    "3. Retrieve information from an RDF database created from Web Data\n",
    "4. Query information from the Web with SPARQL"
   ]
  },
  {
   "cell_type": "markdown",
   "metadata": {},
   "source": [
    "### Practicalities"
   ]
  },
  {
   "cell_type": "markdown",
   "metadata": {},
   "source": [
    "Follow this Notebook step-by-step. \n",
    "\n",
    "Of course, you can do the exercises in any Programming Editor of your liking. \n",
    "But you do not have to. Feel free to simply write code in the Notebook. When \n",
    "everything is filled in and works, save the Notebook and submit it \n",
    "as a Jupyter Notebook, i.e. with an .ipynb extension. Please use as name of the \n",
    "Notebook your studentID+Assignment2.ipynb.  \n",
    "\n",
    "We will not evaluate the programming style of your solutions. Yet we do look whether your solutions suggests an understanding, and whether they yield the correct output.\n",
    "\n",
    "Note that all notebooks will automatically be checked for plagiarism: while similar answers can be expected, it is not allowed to directly copy the solutions from fellow students or TAs, or from the examples discussed during the lectures. Similarly, sharing your solutions with your peers is not allowed."
   ]
  },
  {
   "cell_type": "markdown",
   "metadata": {},
   "source": [
    "# A. Tasks related to local RDF Knowledge Graphs"
   ]
  },
  {
   "cell_type": "markdown",
   "metadata": {},
   "source": [
    "This first cell will open a file 'example-from-slide.ttl' using the rdflib library. The first Practical Assignment should have taught you that manipulating symbols as strings is a major pain. \n",
    "\n",
    "Programming libraries, such as **rdflib**, help you with this mess once and for all, by parsing the files, creating appropriate datastructures (Graph()) and providing useful functions (such as serialize(), save() and much more). \n",
    "Check the website of rdflib http://rdflib.readthedocs.io/: this library does most of the hard work for you."
   ]
  },
  {
   "cell_type": "code",
   "execution_count": 27,
   "metadata": {},
   "outputs": [
    {
     "name": "stdout",
     "output_type": "stream",
     "text": [
      "Defaulting to user installation because normal site-packages is not writeable\n",
      "Requirement already satisfied: rdflib in /home/zayne/.local/lib/python3.10/site-packages (7.1.4)\n",
      "Requirement already satisfied: isodate<1.0.0,>=0.7.2 in /home/zayne/.local/lib/python3.10/site-packages (from rdflib) (0.7.2)\n",
      "Requirement already satisfied: pyparsing<4,>=2.1.0 in /usr/lib/python3/dist-packages (from rdflib) (2.4.7)\n",
      "Note: you may need to restart the kernel to use updated packages.\n"
     ]
    }
   ],
   "source": [
    "# Before starting with the tasks of this assignment, do not forget to install **rdflib** so we can start using it. \n",
    "%pip install rdflib"
   ]
  },
  {
   "cell_type": "code",
   "execution_count": 28,
   "metadata": {},
   "outputs": [],
   "source": [
    "from rdflib import Graph, RDF, Namespace, Literal, URIRef\n",
    "\n",
    "g = Graph()\n",
    "\n",
    "EX = Namespace('http://example.com/kad0/')\n",
    "g.bind('ex',EX)\n",
    "\n",
    "def serialize_graph():\n",
    "    # g.serialize() returns a string\n",
    "    print(g.serialize(format='turtle'))\n",
    "\n",
    "def save_graph(filename):\n",
    "    with open(filename, 'w') as f:\n",
    "        g.serialize(f, format='nt')\n",
    "        \n",
    "def load_graph(filename):\n",
    "    with open(filename, 'r') as f:\n",
    "        g.parse(f, format='turtle')   "
   ]
  },
  {
   "cell_type": "markdown",
   "metadata": {},
   "source": [
    "The file 'example-from-slides.ttl' formalises the knowledge base from the slides from Module 1, and a bit more. \n",
    "\n",
    "Here is how it looks when you load it into your program and serialise it with rdflib in turtle. "
   ]
  },
  {
   "cell_type": "code",
   "execution_count": 29,
   "metadata": {},
   "outputs": [
    {
     "name": "stdout",
     "output_type": "stream",
     "text": [
      "@prefix ex1: <http://example.com/kad/> .\n",
      "@prefix rdfs: <http://www.w3.org/2000/01/rdf-schema#> .\n",
      "\n",
      "ex1:Germany a ex1:EuropeanCountry .\n",
      "\n",
      "ex1:Netherlands a ex1:Country ;\n",
      "    ex1:hasCapital ex1:Amsterdam ;\n",
      "    ex1:hasName \"The Netherlands\" ;\n",
      "    ex1:neighbours ex1:Belgium .\n",
      "\n",
      "ex1:hasCapital rdfs:range ex1:Capital ;\n",
      "    rdfs:subPropertyOf ex1:containsCity .\n",
      "\n",
      "ex1:Amsterdam a ex1:Capital .\n",
      "\n",
      "ex1:Belgium a ex1:Country .\n",
      "\n",
      "ex1:EuropeanCountry rdfs:subClassOf ex1:Country .\n",
      "\n",
      "ex1:containsCity rdfs:domain ex1:Country ;\n",
      "    rdfs:range ex1:City .\n",
      "\n",
      "ex1:Capital rdfs:subClassOf ex1:City .\n",
      "\n",
      "\n"
     ]
    }
   ],
   "source": [
    "load_graph('example-from-slides.ttl')\n",
    "serialize_graph()"
   ]
  },
  {
   "cell_type": "markdown",
   "metadata": {},
   "source": [
    "Now, we can manipulate the graph very easily, e.g. like in the following very simple function, which returns the predicate(s) that relate a subject to a literal object: "
   ]
  },
  {
   "cell_type": "code",
   "execution_count": 30,
   "metadata": {
    "scrolled": true
   },
   "outputs": [
    {
     "name": "stdout",
     "output_type": "stream",
     "text": [
      "http://example.com/kad/hasName\n"
     ]
    }
   ],
   "source": [
    "for s,p,o in g:\n",
    "    if type(o) is Literal:\n",
    "        print(p)"
   ]
  },
  {
   "cell_type": "markdown",
   "metadata": {},
   "source": [
    "### - Task 1: (10 Points) Add information to an RDF graph"
   ]
  },
  {
   "cell_type": "markdown",
   "metadata": {},
   "source": [
    "Add triples to the knowledge graph. Make sure that they have the right namespaces. \n",
    "\n",
    "Similarily to the triples already present in the file 'example-from-slides.ttl':\n",
    "- add at least three new countries with their name and capital \n",
    "- add at least one triple with the `neighbour` predicate\n",
    "\n",
    "Check: http://rdflib.readthedocs.io/en/stable/intro_to_creating_rdf.html\n",
    "\n",
    "Remember that ```a``` is Turtle shorthand for ```rdf:type```."
   ]
  },
  {
   "cell_type": "code",
   "execution_count": 31,
   "metadata": {},
   "outputs": [
    {
     "name": "stdout",
     "output_type": "stream",
     "text": [
      "@prefix ex1: <http://example.com/kad/> .\n",
      "@prefix rdfs: <http://www.w3.org/2000/01/rdf-schema#> .\n",
      "\n",
      "ex1:Germany a ex1:EuropeanCountry .\n",
      "\n",
      "ex1:Netherlands a ex1:Country ;\n",
      "    ex1:hasCapital ex1:Amsterdam ;\n",
      "    ex1:hasName \"The Netherlands\" ;\n",
      "    ex1:neighbours ex1:Belgium .\n",
      "\n",
      "ex1:hasCapital rdfs:range ex1:Capital ;\n",
      "    rdfs:subPropertyOf ex1:containsCity .\n",
      "\n",
      "ex1:Amsterdam a ex1:Capital .\n",
      "\n",
      "ex1:Aruba a ex1:Country ;\n",
      "    ex1:hasCapital ex1:Oranjestad ;\n",
      "    ex1:hasName \"Aruba\" ;\n",
      "    ex1:neighbours ex1:Curacao .\n",
      "\n",
      "ex1:Belgium a ex1:Country .\n",
      "\n",
      "ex1:Bonaire a ex1:Country ;\n",
      "    ex1:hasCapital ex1:Kralendijk ;\n",
      "    ex1:hasName \"Bonaire\" ;\n",
      "    ex1:neighbours ex1:Curacao .\n",
      "\n",
      "ex1:EuropeanCountry rdfs:subClassOf ex1:Country .\n",
      "\n",
      "ex1:Kralendijk a ex1:Capital ;\n",
      "    ex1:hasName \"Kralendijk\" .\n",
      "\n",
      "ex1:Oranjestad a ex1:Capital ;\n",
      "    ex1:hasName \"Oranjestad\" .\n",
      "\n",
      "ex1:Willemstad a ex1:Capital ;\n",
      "    ex1:hasName \"Willemstad\" .\n",
      "\n",
      "ex1:containsCity rdfs:domain ex1:Country ;\n",
      "    rdfs:range ex1:City .\n",
      "\n",
      "ex1:Curacao a ex1:Country ;\n",
      "    ex1:hasCapital ex1:Willemstad ;\n",
      "    ex1:hasName \"Curaçao\" ;\n",
      "    ex1:neighbours ex1:Aruba,\n",
      "        ex1:Bonaire .\n",
      "\n",
      "ex1:Capital rdfs:subClassOf ex1:City .\n",
      "\n",
      "\n"
     ]
    }
   ],
   "source": [
    "ex = Namespace(\"http://example.com/kad/\")\n",
    "owl = Namespace(\"http://www.w3.org/2002/07/owl#\")\n",
    "rdf = Namespace(\"http://www.w3.org/1999/02/22-rdf-syntax-ns#\")\n",
    "rdfs = Namespace(\"http://www.w3.org/2000/01/rdf-schema#\")\n",
    "\n",
    "# add triples here to the graph 'g' (do not forget the namespaces).\n",
    "g.add((ex.Curacao, RDF.type, ex.Country))\n",
    "g.add((ex.Curacao, ex.hasCapital, ex.Willemstad))\n",
    "g.add((ex.Curacao, ex.hasName, Literal(\"Curaçao\")))\n",
    "g.add((ex.Willemstad, RDF.type, ex.Capital))\n",
    "g.add((ex.Willemstad, ex.hasName, Literal(\"Willemstad\")))\n",
    "g.add((ex.Curacao, ex.neighbours, ex.Aruba))\n",
    "g.add((ex.Curacao, ex.neighbours, ex.Bonaire))\n",
    "\n",
    "g.add((ex.Bonaire, RDF.type, ex.Country))\n",
    "g.add((ex.Bonaire, ex.hasCapital, ex.Kralendijk))\n",
    "g.add((ex.Bonaire, ex.hasName, Literal(\"Bonaire\")))\n",
    "g.add((ex.Kralendijk, RDF.type, ex.Capital))\n",
    "g.add((ex.Kralendijk, ex.hasName, Literal(\"Kralendijk\")))\n",
    "g.add((ex.Bonaire, ex.neighbours, ex.Curacao))\n",
    "\n",
    "g.add((ex.Aruba, RDF.type, ex.Country))\n",
    "g.add((ex.Aruba, ex.hasCapital, ex.Oranjestad))\n",
    "g.add((ex.Aruba, ex.hasName, Literal(\"Aruba\")))\n",
    "g.add((ex.Oranjestad, RDF.type, ex.Capital))\n",
    "g.add((ex.Oranjestad, ex.hasName, Literal(\"Oranjestad\")))\n",
    "g.add((ex.Aruba, ex.neighbours, ex.Curacao))\n",
    "\n",
    "\n",
    "serialize_graph()"
   ]
  },
  {
   "cell_type": "markdown",
   "metadata": {},
   "source": [
    "*After you ran the previous code (adding triples) the next cells will be executed on your extended graph. That is ok.*"
   ]
  },
  {
   "cell_type": "markdown",
   "metadata": {},
   "source": [
    "### - Task 2a: (10 Points) Get unstructured information from an RDF graph (all Literals)"
   ]
  },
  {
   "cell_type": "markdown",
   "metadata": {},
   "source": [
    "Use the functions available in the RDFLib library. Write a small function to print all Literals. \n",
    "\n",
    "Hint: there is a function in rdflib to test the type of an object (check previous examples in this notebook)"
   ]
  },
  {
   "cell_type": "code",
   "execution_count": 32,
   "metadata": {},
   "outputs": [
    {
     "name": "stdout",
     "output_type": "stream",
     "text": [
      "Kralendijk\n",
      "Bonaire\n",
      "The Netherlands\n",
      "Curaçao\n",
      "Aruba\n",
      "Willemstad\n",
      "Oranjestad\n",
      "Kralendijk\n",
      "Bonaire\n",
      "The Netherlands\n",
      "Curaçao\n",
      "Aruba\n",
      "Willemstad\n",
      "Oranjestad\n",
      "Kralendijk\n",
      "Bonaire\n",
      "The Netherlands\n",
      "Curaçao\n",
      "Aruba\n",
      "Willemstad\n",
      "Oranjestad\n",
      "Kralendijk\n",
      "Bonaire\n",
      "The Netherlands\n",
      "Curaçao\n",
      "Aruba\n",
      "Willemstad\n",
      "Oranjestad\n",
      "Kralendijk\n",
      "Bonaire\n",
      "The Netherlands\n",
      "Curaçao\n",
      "Aruba\n",
      "Willemstad\n",
      "Oranjestad\n",
      "Kralendijk\n",
      "Bonaire\n",
      "The Netherlands\n",
      "Curaçao\n",
      "Aruba\n",
      "Willemstad\n",
      "Oranjestad\n",
      "Kralendijk\n",
      "Bonaire\n",
      "The Netherlands\n",
      "Curaçao\n",
      "Aruba\n",
      "Willemstad\n",
      "Oranjestad\n",
      "Kralendijk\n",
      "Bonaire\n",
      "The Netherlands\n",
      "Curaçao\n",
      "Aruba\n",
      "Willemstad\n",
      "Oranjestad\n",
      "Kralendijk\n",
      "Bonaire\n",
      "The Netherlands\n",
      "Curaçao\n",
      "Aruba\n",
      "Willemstad\n",
      "Oranjestad\n",
      "Kralendijk\n",
      "Bonaire\n",
      "The Netherlands\n",
      "Curaçao\n",
      "Aruba\n",
      "Willemstad\n",
      "Oranjestad\n",
      "Kralendijk\n",
      "Bonaire\n",
      "The Netherlands\n",
      "Curaçao\n",
      "Aruba\n",
      "Willemstad\n",
      "Oranjestad\n",
      "Kralendijk\n",
      "Bonaire\n",
      "The Netherlands\n",
      "Curaçao\n",
      "Aruba\n",
      "Willemstad\n",
      "Oranjestad\n",
      "Kralendijk\n",
      "Bonaire\n",
      "The Netherlands\n",
      "Curaçao\n",
      "Aruba\n",
      "Willemstad\n",
      "Oranjestad\n",
      "Kralendijk\n",
      "Bonaire\n",
      "The Netherlands\n",
      "Curaçao\n",
      "Aruba\n",
      "Willemstad\n",
      "Oranjestad\n",
      "Kralendijk\n",
      "Bonaire\n",
      "The Netherlands\n",
      "Curaçao\n",
      "Aruba\n",
      "Willemstad\n",
      "Oranjestad\n",
      "Kralendijk\n",
      "Bonaire\n",
      "The Netherlands\n",
      "Curaçao\n",
      "Aruba\n",
      "Willemstad\n",
      "Oranjestad\n",
      "Kralendijk\n",
      "Bonaire\n",
      "The Netherlands\n",
      "Curaçao\n",
      "Aruba\n",
      "Willemstad\n",
      "Oranjestad\n",
      "Kralendijk\n",
      "Bonaire\n",
      "The Netherlands\n",
      "Curaçao\n",
      "Aruba\n",
      "Willemstad\n",
      "Oranjestad\n",
      "Kralendijk\n",
      "Bonaire\n",
      "The Netherlands\n",
      "Curaçao\n",
      "Aruba\n",
      "Willemstad\n",
      "Oranjestad\n",
      "Kralendijk\n",
      "Bonaire\n",
      "The Netherlands\n",
      "Curaçao\n",
      "Aruba\n",
      "Willemstad\n",
      "Oranjestad\n",
      "Kralendijk\n",
      "Bonaire\n",
      "The Netherlands\n",
      "Curaçao\n",
      "Aruba\n",
      "Willemstad\n",
      "Oranjestad\n",
      "Kralendijk\n",
      "Bonaire\n",
      "The Netherlands\n",
      "Curaçao\n",
      "Aruba\n",
      "Willemstad\n",
      "Oranjestad\n",
      "Kralendijk\n",
      "Bonaire\n",
      "The Netherlands\n",
      "Curaçao\n",
      "Aruba\n",
      "Willemstad\n",
      "Oranjestad\n",
      "Kralendijk\n",
      "Bonaire\n",
      "The Netherlands\n",
      "Curaçao\n",
      "Aruba\n",
      "Willemstad\n",
      "Oranjestad\n",
      "Kralendijk\n",
      "Bonaire\n",
      "The Netherlands\n",
      "Curaçao\n",
      "Aruba\n",
      "Willemstad\n",
      "Oranjestad\n",
      "Kralendijk\n",
      "Bonaire\n",
      "The Netherlands\n",
      "Curaçao\n",
      "Aruba\n",
      "Willemstad\n",
      "Oranjestad\n",
      "Kralendijk\n",
      "Bonaire\n",
      "The Netherlands\n",
      "Curaçao\n",
      "Aruba\n",
      "Willemstad\n",
      "Oranjestad\n",
      "Kralendijk\n",
      "Bonaire\n",
      "The Netherlands\n",
      "Curaçao\n",
      "Aruba\n",
      "Willemstad\n",
      "Oranjestad\n",
      "Kralendijk\n",
      "Bonaire\n",
      "The Netherlands\n",
      "Curaçao\n",
      "Aruba\n",
      "Willemstad\n",
      "Oranjestad\n",
      "Kralendijk\n",
      "Bonaire\n",
      "The Netherlands\n",
      "Curaçao\n",
      "Aruba\n",
      "Willemstad\n",
      "Oranjestad\n",
      "Kralendijk\n",
      "Bonaire\n",
      "The Netherlands\n",
      "Curaçao\n",
      "Aruba\n",
      "Willemstad\n",
      "Oranjestad\n",
      "Kralendijk\n",
      "Bonaire\n",
      "The Netherlands\n",
      "Curaçao\n",
      "Aruba\n",
      "Willemstad\n",
      "Oranjestad\n"
     ]
    }
   ],
   "source": [
    "for s,p,o in g:\n",
    "    # Your code here\n",
    "    for s,p,o in g:\n",
    "        if type(o) is Literal:\n",
    "            print(o)\n",
    "    pass"
   ]
  },
  {
   "cell_type": "markdown",
   "metadata": {},
   "source": [
    "### - Task 2b: (10 Points) Get structured information from an RDF graph (all unique Predicates)"
   ]
  },
  {
   "cell_type": "markdown",
   "metadata": {},
   "source": [
    "Please provide another function that gives a **unique** list of the predicates, ordered by occurrence (most occurring first). Print the number of occurences next to the predicate. The answer will look similar to this: \n",
    "<br/>7: http://www.w3.org/1999/02/22-rdf-syntax-ns#type\n",
    "<br/>4: http://example.com/kad/hasName\n",
    "<br/>4: http://example.com/kad/hasCapital\n",
    "<br/>2: http://www.w3.org/2000/01/rdf-schema#subClassOf\n",
    "<br/>2: http://www.w3.org/2000/01/rdf-schema#range\n",
    "<br/>2: http://example.com/kad/neighbours\n",
    "<br/>1: http://www.w3.org/2000/01/rdf-schema#subPropertyOf\n",
    "<br/>1: http://www.w3.org/2000/01/rdf-schema#domain"
   ]
  },
  {
   "cell_type": "code",
   "execution_count": 33,
   "metadata": {},
   "outputs": [
    {
     "name": "stdout",
     "output_type": "stream",
     "text": [
      "10: http://www.w3.org/1999/02/22-rdf-syntax-ns#type\n",
      "7: http://example.com/kad/hasName\n",
      "5: http://example.com/kad/neighbours\n",
      "4: http://example.com/kad/hasCapital\n",
      "2: http://www.w3.org/2000/01/rdf-schema#subClassOf\n",
      "2: http://www.w3.org/2000/01/rdf-schema#range\n",
      "1: http://www.w3.org/2000/01/rdf-schema#domain\n",
      "1: http://www.w3.org/2000/01/rdf-schema#subPropertyOf\n"
     ]
    }
   ],
   "source": [
    "predicates = {}\n",
    "\n",
    "for s,p,o in g:\n",
    "    if p not in predicates:\n",
    "        predicates[p] = 1\n",
    "    else:\n",
    "        predicates[p] += 1\n",
    "\n",
    "sorted_predicates = dict(sorted(predicates.items(), key=lambda item: item[1], reverse=True))\n",
    "for item in sorted_predicates:\n",
    "    print(f\"{sorted_predicates[item]}: {item}\")\n",
    "pass\n"
   ]
  },
  {
   "cell_type": "markdown",
   "metadata": {},
   "source": [
    "# B. Tasks related to Graph visualisations "
   ]
  },
  {
   "cell_type": "markdown",
   "metadata": {},
   "source": [
    "### - Task 3a: (20 Points) From RDF to .dot \n"
   ]
  },
  {
   "cell_type": "markdown",
   "metadata": {},
   "source": [
    "In the lecture, we have seen two ways of writing a knowledge graph (simple n-triples, and simple turtle). Let us consider a 3rd syntax, this time a syntax that is useful for visualisation. One standard for visualising graphs is the .dot format.\n",
    "\n",
    "Print the knowledge graph in .dot file format. Check https://graphviz.gitlab.io/documentation/ and https://graphviz.readthedocs.io/en/stable/ for the documentation. You will only need very little of this information, and the most relevant information can be found in the examples that are given. \n",
    "\n",
    "<br>Basically, an RDF graph in .dot format starts with `digraph G {` and then a list of links of the following form:\n",
    "<br>`s -> o [label=\"p\"]`\n",
    "<br>for every triple in the graph (separated by `;`). Do not forget to end with a closing bracket. `}`\n",
    "\n",
    "An example is \n",
    "     \n",
    "     digraph G { s1 -> o1 [label=\"p1\"] ; s2 -> o2 [label=\"p2\"] } \n",
    "     \n",
    "for an RDF graph [(s1 p1 o1), (s2 p2 o2)]"
   ]
  },
  {
   "cell_type": "code",
   "execution_count": 34,
   "metadata": {},
   "outputs": [
    {
     "name": "stdout",
     "output_type": "stream",
     "text": [
      "Defaulting to user installation because normal site-packages is not writeable\n",
      "Requirement already satisfied: graphviz in /home/zayne/.local/lib/python3.10/site-packages (0.21)\n",
      "Note: you may need to restart the kernel to use updated packages.\n"
     ]
    }
   ],
   "source": [
    "# install and import the graphviz library\n",
    "%pip install graphviz\n",
    "import graphviz\n",
    "\n",
    "from IPython import display"
   ]
  },
  {
   "cell_type": "markdown",
   "metadata": {},
   "source": [
    "First, create an auxiliary function which strips the namespaces from URIs. This is necessary to make the node names readable when visualizing the .dot graph. Make sure that literals are enclosed by quotation marks. Hint: use `'\"...\"'` or `\"\\\"...\\\"\"` to insert quotation marks in Python strings."
   ]
  },
  {
   "cell_type": "code",
   "execution_count": 35,
   "metadata": {},
   "outputs": [],
   "source": [
    "def strip(e, isliteral):\n",
    "    # 'http://www.example.org/pizza' should become 'pizza'\n",
    "    e = e.split('/')[-1]\n",
    "    e = e.split('#')[-1]\n",
    "    if isliteral and e[0] != '\"':\n",
    "        e = '\"'+e+'\"'\n",
    "    return e"
   ]
  },
  {
   "cell_type": "markdown",
   "metadata": {},
   "source": [
    "Next, convert your graph to the .dot format."
   ]
  },
  {
   "cell_type": "code",
   "execution_count": 36,
   "metadata": {},
   "outputs": [],
   "source": [
    "dot = graphviz.Digraph(strict=True, graph_attr={\"dpi\":\"50\"})  # adjust dpi to scale graph\n",
    "for s,p,o in g:\n",
    "    # Your code here (see the documentation)\n",
    "    strippedS = strip(s, type(s) is Literal)\n",
    "    strippedP = strip(p, type(p) is Literal)\n",
    "    strippedO = strip(o, type(o) is Literal)\n",
    "    dot.node(strippedS)\n",
    "    dot.node(strippedO)\n",
    "    dot.edge(strippedS, strippedO, label=strippedP)\n",
    "    # print(strippedP)\n",
    "    pass"
   ]
  },
  {
   "cell_type": "markdown",
   "metadata": {},
   "source": [
    "View the end result as .dot syntax and as a graph:"
   ]
  },
  {
   "cell_type": "code",
   "execution_count": 37,
   "metadata": {},
   "outputs": [
    {
     "name": "stdout",
     "output_type": "stream",
     "text": [
      "strict digraph {\n",
      "\tgraph [dpi=50]\n",
      "\tKralendijk\n",
      "\tCapital\n",
      "\tKralendijk -> Capital [label=type]\n",
      "\tOranjestad\n",
      "\tCapital\n",
      "\tOranjestad -> Capital [label=type]\n",
      "\tCapital\n",
      "\tCity\n",
      "\tCapital -> City [label=subClassOf]\n",
      "\tNetherlands\n",
      "\tAmsterdam\n",
      "\tNetherlands -> Amsterdam [label=hasCapital]\n",
      "\tBonaire\n",
      "\tCountry\n",
      "\tBonaire -> Country [label=type]\n",
      "\tKralendijk\n",
      "\t\"\\\"Kralendijk\\\"\"\n",
      "\tKralendijk -> \"\\\"Kralendijk\\\"\" [label=hasName]\n",
      "\tBonaire\n",
      "\t\"\\\"Bonaire\\\"\"\n",
      "\tBonaire -> \"\\\"Bonaire\\\"\" [label=hasName]\n",
      "\tNetherlands\n",
      "\t\"\\\"The Netherlands\\\"\"\n",
      "\tNetherlands -> \"\\\"The Netherlands\\\"\" [label=hasName]\n",
      "\tBelgium\n",
      "\tCountry\n",
      "\tBelgium -> Country [label=type]\n",
      "\tAmsterdam\n",
      "\tCapital\n",
      "\tAmsterdam -> Capital [label=type]\n",
      "\tAruba\n",
      "\tCountry\n",
      "\tAruba -> Country [label=type]\n",
      "\tCuracao\n",
      "\tCountry\n",
      "\tCuracao -> Country [label=type]\n",
      "\tCuracao\n",
      "\t\"\\\"Curaçao\\\"\"\n",
      "\tCuracao -> \"\\\"Curaçao\\\"\" [label=hasName]\n",
      "\tBonaire\n",
      "\tCuracao\n",
      "\tBonaire -> Curacao [label=neighbours]\n",
      "\tCuracao\n",
      "\tAruba\n",
      "\tCuracao -> Aruba [label=neighbours]\n",
      "\tWillemstad\n",
      "\tCapital\n",
      "\tWillemstad -> Capital [label=type]\n",
      "\tNetherlands\n",
      "\tBelgium\n",
      "\tNetherlands -> Belgium [label=neighbours]\n",
      "\tBonaire\n",
      "\tKralendijk\n",
      "\tBonaire -> Kralendijk [label=hasCapital]\n",
      "\tNetherlands\n",
      "\tCountry\n",
      "\tNetherlands -> Country [label=type]\n",
      "\tcontainsCity\n",
      "\tCity\n",
      "\tcontainsCity -> City [label=range]\n",
      "\tCuracao\n",
      "\tWillemstad\n",
      "\tCuracao -> Willemstad [label=hasCapital]\n",
      "\tAruba\n",
      "\tCuracao\n",
      "\tAruba -> Curacao [label=neighbours]\n",
      "\tcontainsCity\n",
      "\tCountry\n",
      "\tcontainsCity -> Country [label=domain]\n",
      "\tAruba\n",
      "\t\"\\\"Aruba\\\"\"\n",
      "\tAruba -> \"\\\"Aruba\\\"\" [label=hasName]\n",
      "\tAruba\n",
      "\tOranjestad\n",
      "\tAruba -> Oranjestad [label=hasCapital]\n",
      "\tGermany\n",
      "\tEuropeanCountry\n",
      "\tGermany -> EuropeanCountry [label=type]\n",
      "\thasCapital\n",
      "\tcontainsCity\n",
      "\thasCapital -> containsCity [label=subPropertyOf]\n",
      "\tWillemstad\n",
      "\t\"\\\"Willemstad\\\"\"\n",
      "\tWillemstad -> \"\\\"Willemstad\\\"\" [label=hasName]\n",
      "\tOranjestad\n",
      "\t\"\\\"Oranjestad\\\"\"\n",
      "\tOranjestad -> \"\\\"Oranjestad\\\"\" [label=hasName]\n",
      "\thasCapital\n",
      "\tCapital\n",
      "\thasCapital -> Capital [label=range]\n",
      "\tEuropeanCountry\n",
      "\tCountry\n",
      "\tEuropeanCountry -> Country [label=subClassOf]\n",
      "\tCuracao\n",
      "\tBonaire\n",
      "\tCuracao -> Bonaire [label=neighbours]\n",
      "}\n",
      "\n"
     ]
    },
    {
     "ename": "ExecutableNotFound",
     "evalue": "failed to execute PosixPath('dot'), make sure the Graphviz executables are on your systems' PATH",
     "output_type": "error",
     "traceback": [
      "\u001b[0;31m---------------------------------------------------------------------------\u001b[0m",
      "\u001b[0;31mFileNotFoundError\u001b[0m                         Traceback (most recent call last)",
      "File \u001b[0;32m~/.local/lib/python3.10/site-packages/graphviz/backend/execute.py:76\u001b[0m, in \u001b[0;36mrun_check\u001b[0;34m(cmd, input_lines, encoding, quiet, **kwargs)\u001b[0m\n\u001b[1;32m     75\u001b[0m         kwargs[\u001b[38;5;124m'\u001b[39m\u001b[38;5;124mstdout\u001b[39m\u001b[38;5;124m'\u001b[39m] \u001b[38;5;241m=\u001b[39m kwargs[\u001b[38;5;124m'\u001b[39m\u001b[38;5;124mstderr\u001b[39m\u001b[38;5;124m'\u001b[39m] \u001b[38;5;241m=\u001b[39m subprocess\u001b[38;5;241m.\u001b[39mPIPE\n\u001b[0;32m---> 76\u001b[0m     proc \u001b[38;5;241m=\u001b[39m \u001b[43m_run_input_lines\u001b[49m\u001b[43m(\u001b[49m\u001b[43mcmd\u001b[49m\u001b[43m,\u001b[49m\u001b[43m \u001b[49m\u001b[43minput_lines\u001b[49m\u001b[43m,\u001b[49m\u001b[43m \u001b[49m\u001b[43mkwargs\u001b[49m\u001b[38;5;241;43m=\u001b[39;49m\u001b[43mkwargs\u001b[49m\u001b[43m)\u001b[49m\n\u001b[1;32m     77\u001b[0m \u001b[38;5;28;01melse\u001b[39;00m:\n",
      "File \u001b[0;32m~/.local/lib/python3.10/site-packages/graphviz/backend/execute.py:96\u001b[0m, in \u001b[0;36m_run_input_lines\u001b[0;34m(cmd, input_lines, kwargs)\u001b[0m\n\u001b[1;32m     95\u001b[0m \u001b[38;5;28;01mdef\u001b[39;00m \u001b[38;5;21m_run_input_lines\u001b[39m(cmd, input_lines, \u001b[38;5;241m*\u001b[39m, kwargs):\n\u001b[0;32m---> 96\u001b[0m     popen \u001b[38;5;241m=\u001b[39m \u001b[43msubprocess\u001b[49m\u001b[38;5;241;43m.\u001b[39;49m\u001b[43mPopen\u001b[49m\u001b[43m(\u001b[49m\u001b[43mcmd\u001b[49m\u001b[43m,\u001b[49m\u001b[43m \u001b[49m\u001b[43mstdin\u001b[49m\u001b[38;5;241;43m=\u001b[39;49m\u001b[43msubprocess\u001b[49m\u001b[38;5;241;43m.\u001b[39;49m\u001b[43mPIPE\u001b[49m\u001b[43m,\u001b[49m\u001b[43m \u001b[49m\u001b[38;5;241;43m*\u001b[39;49m\u001b[38;5;241;43m*\u001b[39;49m\u001b[43mkwargs\u001b[49m\u001b[43m)\u001b[49m\n\u001b[1;32m     98\u001b[0m     stdin_write \u001b[38;5;241m=\u001b[39m popen\u001b[38;5;241m.\u001b[39mstdin\u001b[38;5;241m.\u001b[39mwrite\n",
      "File \u001b[0;32m/usr/lib/python3.10/subprocess.py:971\u001b[0m, in \u001b[0;36mPopen.__init__\u001b[0;34m(self, args, bufsize, executable, stdin, stdout, stderr, preexec_fn, close_fds, shell, cwd, env, universal_newlines, startupinfo, creationflags, restore_signals, start_new_session, pass_fds, user, group, extra_groups, encoding, errors, text, umask, pipesize)\u001b[0m\n\u001b[1;32m    968\u001b[0m             \u001b[38;5;28mself\u001b[39m\u001b[38;5;241m.\u001b[39mstderr \u001b[38;5;241m=\u001b[39m io\u001b[38;5;241m.\u001b[39mTextIOWrapper(\u001b[38;5;28mself\u001b[39m\u001b[38;5;241m.\u001b[39mstderr,\n\u001b[1;32m    969\u001b[0m                     encoding\u001b[38;5;241m=\u001b[39mencoding, errors\u001b[38;5;241m=\u001b[39merrors)\n\u001b[0;32m--> 971\u001b[0m     \u001b[38;5;28;43mself\u001b[39;49m\u001b[38;5;241;43m.\u001b[39;49m\u001b[43m_execute_child\u001b[49m\u001b[43m(\u001b[49m\u001b[43margs\u001b[49m\u001b[43m,\u001b[49m\u001b[43m \u001b[49m\u001b[43mexecutable\u001b[49m\u001b[43m,\u001b[49m\u001b[43m \u001b[49m\u001b[43mpreexec_fn\u001b[49m\u001b[43m,\u001b[49m\u001b[43m \u001b[49m\u001b[43mclose_fds\u001b[49m\u001b[43m,\u001b[49m\n\u001b[1;32m    972\u001b[0m \u001b[43m                        \u001b[49m\u001b[43mpass_fds\u001b[49m\u001b[43m,\u001b[49m\u001b[43m \u001b[49m\u001b[43mcwd\u001b[49m\u001b[43m,\u001b[49m\u001b[43m \u001b[49m\u001b[43menv\u001b[49m\u001b[43m,\u001b[49m\n\u001b[1;32m    973\u001b[0m \u001b[43m                        \u001b[49m\u001b[43mstartupinfo\u001b[49m\u001b[43m,\u001b[49m\u001b[43m \u001b[49m\u001b[43mcreationflags\u001b[49m\u001b[43m,\u001b[49m\u001b[43m \u001b[49m\u001b[43mshell\u001b[49m\u001b[43m,\u001b[49m\n\u001b[1;32m    974\u001b[0m \u001b[43m                        \u001b[49m\u001b[43mp2cread\u001b[49m\u001b[43m,\u001b[49m\u001b[43m \u001b[49m\u001b[43mp2cwrite\u001b[49m\u001b[43m,\u001b[49m\n\u001b[1;32m    975\u001b[0m \u001b[43m                        \u001b[49m\u001b[43mc2pread\u001b[49m\u001b[43m,\u001b[49m\u001b[43m \u001b[49m\u001b[43mc2pwrite\u001b[49m\u001b[43m,\u001b[49m\n\u001b[1;32m    976\u001b[0m \u001b[43m                        \u001b[49m\u001b[43merrread\u001b[49m\u001b[43m,\u001b[49m\u001b[43m \u001b[49m\u001b[43merrwrite\u001b[49m\u001b[43m,\u001b[49m\n\u001b[1;32m    977\u001b[0m \u001b[43m                        \u001b[49m\u001b[43mrestore_signals\u001b[49m\u001b[43m,\u001b[49m\n\u001b[1;32m    978\u001b[0m \u001b[43m                        \u001b[49m\u001b[43mgid\u001b[49m\u001b[43m,\u001b[49m\u001b[43m \u001b[49m\u001b[43mgids\u001b[49m\u001b[43m,\u001b[49m\u001b[43m \u001b[49m\u001b[43muid\u001b[49m\u001b[43m,\u001b[49m\u001b[43m \u001b[49m\u001b[43mumask\u001b[49m\u001b[43m,\u001b[49m\n\u001b[1;32m    979\u001b[0m \u001b[43m                        \u001b[49m\u001b[43mstart_new_session\u001b[49m\u001b[43m)\u001b[49m\n\u001b[1;32m    980\u001b[0m \u001b[38;5;28;01mexcept\u001b[39;00m:\n\u001b[1;32m    981\u001b[0m     \u001b[38;5;66;03m# Cleanup if the child failed starting.\u001b[39;00m\n",
      "File \u001b[0;32m/usr/lib/python3.10/subprocess.py:1863\u001b[0m, in \u001b[0;36mPopen._execute_child\u001b[0;34m(self, args, executable, preexec_fn, close_fds, pass_fds, cwd, env, startupinfo, creationflags, shell, p2cread, p2cwrite, c2pread, c2pwrite, errread, errwrite, restore_signals, gid, gids, uid, umask, start_new_session)\u001b[0m\n\u001b[1;32m   1862\u001b[0m         err_msg \u001b[38;5;241m=\u001b[39m os\u001b[38;5;241m.\u001b[39mstrerror(errno_num)\n\u001b[0;32m-> 1863\u001b[0m     \u001b[38;5;28;01mraise\u001b[39;00m child_exception_type(errno_num, err_msg, err_filename)\n\u001b[1;32m   1864\u001b[0m \u001b[38;5;28;01mraise\u001b[39;00m child_exception_type(err_msg)\n",
      "\u001b[0;31mFileNotFoundError\u001b[0m: [Errno 2] No such file or directory: PosixPath('dot')",
      "\nThe above exception was the direct cause of the following exception:\n",
      "\u001b[0;31mExecutableNotFound\u001b[0m                        Traceback (most recent call last)",
      "File \u001b[0;32m~/.local/lib/python3.10/site-packages/IPython/core/formatters.py:1036\u001b[0m, in \u001b[0;36mMimeBundleFormatter.__call__\u001b[0;34m(self, obj, include, exclude)\u001b[0m\n\u001b[1;32m   1033\u001b[0m     method \u001b[38;5;241m=\u001b[39m get_real_method(obj, \u001b[38;5;28mself\u001b[39m\u001b[38;5;241m.\u001b[39mprint_method)\n\u001b[1;32m   1035\u001b[0m     \u001b[38;5;28;01mif\u001b[39;00m method \u001b[38;5;129;01mis\u001b[39;00m \u001b[38;5;129;01mnot\u001b[39;00m \u001b[38;5;28;01mNone\u001b[39;00m:\n\u001b[0;32m-> 1036\u001b[0m         \u001b[38;5;28;01mreturn\u001b[39;00m \u001b[43mmethod\u001b[49m\u001b[43m(\u001b[49m\u001b[43minclude\u001b[49m\u001b[38;5;241;43m=\u001b[39;49m\u001b[43minclude\u001b[49m\u001b[43m,\u001b[49m\u001b[43m \u001b[49m\u001b[43mexclude\u001b[49m\u001b[38;5;241;43m=\u001b[39;49m\u001b[43mexclude\u001b[49m\u001b[43m)\u001b[49m\n\u001b[1;32m   1037\u001b[0m     \u001b[38;5;28;01mreturn\u001b[39;00m \u001b[38;5;28;01mNone\u001b[39;00m\n\u001b[1;32m   1038\u001b[0m \u001b[38;5;28;01melse\u001b[39;00m:\n",
      "File \u001b[0;32m~/.local/lib/python3.10/site-packages/graphviz/jupyter_integration.py:98\u001b[0m, in \u001b[0;36mJupyterIntegration._repr_mimebundle_\u001b[0;34m(self, include, exclude, **_)\u001b[0m\n\u001b[1;32m     96\u001b[0m include \u001b[38;5;241m=\u001b[39m \u001b[38;5;28mset\u001b[39m(include) \u001b[38;5;28;01mif\u001b[39;00m include \u001b[38;5;129;01mis\u001b[39;00m \u001b[38;5;129;01mnot\u001b[39;00m \u001b[38;5;28;01mNone\u001b[39;00m \u001b[38;5;28;01melse\u001b[39;00m {\u001b[38;5;28mself\u001b[39m\u001b[38;5;241m.\u001b[39m_jupyter_mimetype}\n\u001b[1;32m     97\u001b[0m include \u001b[38;5;241m-\u001b[39m\u001b[38;5;241m=\u001b[39m \u001b[38;5;28mset\u001b[39m(exclude \u001b[38;5;129;01mor\u001b[39;00m [])\n\u001b[0;32m---> 98\u001b[0m \u001b[38;5;28;01mreturn\u001b[39;00m {mimetype: \u001b[38;5;28mgetattr\u001b[39m(\u001b[38;5;28mself\u001b[39m, method_name)()\n\u001b[1;32m     99\u001b[0m         \u001b[38;5;28;01mfor\u001b[39;00m mimetype, method_name \u001b[38;5;129;01min\u001b[39;00m MIME_TYPES\u001b[38;5;241m.\u001b[39mitems()\n\u001b[1;32m    100\u001b[0m         \u001b[38;5;28;01mif\u001b[39;00m mimetype \u001b[38;5;129;01min\u001b[39;00m include}\n",
      "File \u001b[0;32m~/.local/lib/python3.10/site-packages/graphviz/jupyter_integration.py:98\u001b[0m, in \u001b[0;36m<dictcomp>\u001b[0;34m(.0)\u001b[0m\n\u001b[1;32m     96\u001b[0m include \u001b[38;5;241m=\u001b[39m \u001b[38;5;28mset\u001b[39m(include) \u001b[38;5;28;01mif\u001b[39;00m include \u001b[38;5;129;01mis\u001b[39;00m \u001b[38;5;129;01mnot\u001b[39;00m \u001b[38;5;28;01mNone\u001b[39;00m \u001b[38;5;28;01melse\u001b[39;00m {\u001b[38;5;28mself\u001b[39m\u001b[38;5;241m.\u001b[39m_jupyter_mimetype}\n\u001b[1;32m     97\u001b[0m include \u001b[38;5;241m-\u001b[39m\u001b[38;5;241m=\u001b[39m \u001b[38;5;28mset\u001b[39m(exclude \u001b[38;5;129;01mor\u001b[39;00m [])\n\u001b[0;32m---> 98\u001b[0m \u001b[38;5;28;01mreturn\u001b[39;00m {mimetype: \u001b[38;5;28;43mgetattr\u001b[39;49m\u001b[43m(\u001b[49m\u001b[38;5;28;43mself\u001b[39;49m\u001b[43m,\u001b[49m\u001b[43m \u001b[49m\u001b[43mmethod_name\u001b[49m\u001b[43m)\u001b[49m\u001b[43m(\u001b[49m\u001b[43m)\u001b[49m\n\u001b[1;32m     99\u001b[0m         \u001b[38;5;28;01mfor\u001b[39;00m mimetype, method_name \u001b[38;5;129;01min\u001b[39;00m MIME_TYPES\u001b[38;5;241m.\u001b[39mitems()\n\u001b[1;32m    100\u001b[0m         \u001b[38;5;28;01mif\u001b[39;00m mimetype \u001b[38;5;129;01min\u001b[39;00m include}\n",
      "File \u001b[0;32m~/.local/lib/python3.10/site-packages/graphviz/jupyter_integration.py:112\u001b[0m, in \u001b[0;36mJupyterIntegration._repr_image_svg_xml\u001b[0;34m(self)\u001b[0m\n\u001b[1;32m    110\u001b[0m \u001b[38;5;28;01mdef\u001b[39;00m \u001b[38;5;21m_repr_image_svg_xml\u001b[39m(\u001b[38;5;28mself\u001b[39m) \u001b[38;5;241m-\u001b[39m\u001b[38;5;241m>\u001b[39m \u001b[38;5;28mstr\u001b[39m:\n\u001b[1;32m    111\u001b[0m     \u001b[38;5;124;03m\"\"\"Return the rendered graph as SVG string.\"\"\"\u001b[39;00m\n\u001b[0;32m--> 112\u001b[0m     \u001b[38;5;28;01mreturn\u001b[39;00m \u001b[38;5;28;43mself\u001b[39;49m\u001b[38;5;241;43m.\u001b[39;49m\u001b[43mpipe\u001b[49m\u001b[43m(\u001b[49m\u001b[38;5;28;43mformat\u001b[39;49m\u001b[38;5;241;43m=\u001b[39;49m\u001b[38;5;124;43m'\u001b[39;49m\u001b[38;5;124;43msvg\u001b[39;49m\u001b[38;5;124;43m'\u001b[39;49m\u001b[43m,\u001b[49m\u001b[43m \u001b[49m\u001b[43mencoding\u001b[49m\u001b[38;5;241;43m=\u001b[39;49m\u001b[43mSVG_ENCODING\u001b[49m\u001b[43m)\u001b[49m\n",
      "File \u001b[0;32m~/.local/lib/python3.10/site-packages/graphviz/piping.py:104\u001b[0m, in \u001b[0;36mPipe.pipe\u001b[0;34m(self, format, renderer, formatter, neato_no_op, quiet, engine, encoding)\u001b[0m\n\u001b[1;32m     55\u001b[0m \u001b[38;5;28;01mdef\u001b[39;00m \u001b[38;5;21mpipe\u001b[39m(\u001b[38;5;28mself\u001b[39m,\n\u001b[1;32m     56\u001b[0m          \u001b[38;5;28mformat\u001b[39m: typing\u001b[38;5;241m.\u001b[39mOptional[\u001b[38;5;28mstr\u001b[39m] \u001b[38;5;241m=\u001b[39m \u001b[38;5;28;01mNone\u001b[39;00m,\n\u001b[1;32m     57\u001b[0m          renderer: typing\u001b[38;5;241m.\u001b[39mOptional[\u001b[38;5;28mstr\u001b[39m] \u001b[38;5;241m=\u001b[39m \u001b[38;5;28;01mNone\u001b[39;00m,\n\u001b[0;32m   (...)\u001b[0m\n\u001b[1;32m     61\u001b[0m          engine: typing\u001b[38;5;241m.\u001b[39mOptional[\u001b[38;5;28mstr\u001b[39m] \u001b[38;5;241m=\u001b[39m \u001b[38;5;28;01mNone\u001b[39;00m,\n\u001b[1;32m     62\u001b[0m          encoding: typing\u001b[38;5;241m.\u001b[39mOptional[\u001b[38;5;28mstr\u001b[39m] \u001b[38;5;241m=\u001b[39m \u001b[38;5;28;01mNone\u001b[39;00m) \u001b[38;5;241m-\u001b[39m\u001b[38;5;241m>\u001b[39m typing\u001b[38;5;241m.\u001b[39mUnion[\u001b[38;5;28mbytes\u001b[39m, \u001b[38;5;28mstr\u001b[39m]:\n\u001b[1;32m     63\u001b[0m     \u001b[38;5;124;03m\"\"\"Return the source piped through the Graphviz layout command.\u001b[39;00m\n\u001b[1;32m     64\u001b[0m \n\u001b[1;32m     65\u001b[0m \u001b[38;5;124;03m    Args:\u001b[39;00m\n\u001b[0;32m   (...)\u001b[0m\n\u001b[1;32m    102\u001b[0m \u001b[38;5;124;03m        '<?xml version='\u001b[39;00m\n\u001b[1;32m    103\u001b[0m \u001b[38;5;124;03m    \"\"\"\u001b[39;00m\n\u001b[0;32m--> 104\u001b[0m     \u001b[38;5;28;01mreturn\u001b[39;00m \u001b[38;5;28;43mself\u001b[39;49m\u001b[38;5;241;43m.\u001b[39;49m\u001b[43m_pipe_legacy\u001b[49m\u001b[43m(\u001b[49m\u001b[38;5;28;43mformat\u001b[39;49m\u001b[43m,\u001b[49m\n\u001b[1;32m    105\u001b[0m \u001b[43m                             \u001b[49m\u001b[43mrenderer\u001b[49m\u001b[38;5;241;43m=\u001b[39;49m\u001b[43mrenderer\u001b[49m\u001b[43m,\u001b[49m\n\u001b[1;32m    106\u001b[0m \u001b[43m                             \u001b[49m\u001b[43mformatter\u001b[49m\u001b[38;5;241;43m=\u001b[39;49m\u001b[43mformatter\u001b[49m\u001b[43m,\u001b[49m\n\u001b[1;32m    107\u001b[0m \u001b[43m                             \u001b[49m\u001b[43mneato_no_op\u001b[49m\u001b[38;5;241;43m=\u001b[39;49m\u001b[43mneato_no_op\u001b[49m\u001b[43m,\u001b[49m\n\u001b[1;32m    108\u001b[0m \u001b[43m                             \u001b[49m\u001b[43mquiet\u001b[49m\u001b[38;5;241;43m=\u001b[39;49m\u001b[43mquiet\u001b[49m\u001b[43m,\u001b[49m\n\u001b[1;32m    109\u001b[0m \u001b[43m                             \u001b[49m\u001b[43mengine\u001b[49m\u001b[38;5;241;43m=\u001b[39;49m\u001b[43mengine\u001b[49m\u001b[43m,\u001b[49m\n\u001b[1;32m    110\u001b[0m \u001b[43m                             \u001b[49m\u001b[43mencoding\u001b[49m\u001b[38;5;241;43m=\u001b[39;49m\u001b[43mencoding\u001b[49m\u001b[43m)\u001b[49m\n",
      "File \u001b[0;32m~/.local/lib/python3.10/site-packages/graphviz/_tools.py:185\u001b[0m, in \u001b[0;36mdeprecate_positional_args.<locals>.decorator.<locals>.wrapper\u001b[0;34m(*args, **kwargs)\u001b[0m\n\u001b[1;32m    177\u001b[0m     wanted \u001b[38;5;241m=\u001b[39m \u001b[38;5;124m'\u001b[39m\u001b[38;5;124m, \u001b[39m\u001b[38;5;124m'\u001b[39m\u001b[38;5;241m.\u001b[39mjoin(\u001b[38;5;124mf\u001b[39m\u001b[38;5;124m'\u001b[39m\u001b[38;5;132;01m{\u001b[39;00mname\u001b[38;5;132;01m}\u001b[39;00m\u001b[38;5;124m=\u001b[39m\u001b[38;5;132;01m{\u001b[39;00mvalue\u001b[38;5;132;01m!r}\u001b[39;00m\u001b[38;5;124m'\u001b[39m\n\u001b[1;32m    178\u001b[0m                        \u001b[38;5;28;01mfor\u001b[39;00m name, value \u001b[38;5;129;01min\u001b[39;00m deprecated\u001b[38;5;241m.\u001b[39mitems())\n\u001b[1;32m    179\u001b[0m     warnings\u001b[38;5;241m.\u001b[39mwarn(\u001b[38;5;124mf\u001b[39m\u001b[38;5;124m'\u001b[39m\u001b[38;5;124mThe signature of \u001b[39m\u001b[38;5;132;01m{\u001b[39;00mfunc_name\u001b[38;5;132;01m}\u001b[39;00m\u001b[38;5;124m will be reduced\u001b[39m\u001b[38;5;124m'\u001b[39m\n\u001b[1;32m    180\u001b[0m                   \u001b[38;5;124mf\u001b[39m\u001b[38;5;124m'\u001b[39m\u001b[38;5;124m to \u001b[39m\u001b[38;5;132;01m{\u001b[39;00msupported_number\u001b[38;5;132;01m}\u001b[39;00m\u001b[38;5;124m positional arg\u001b[39m\u001b[38;5;132;01m{\u001b[39;00ms_\u001b[38;5;132;01m}\u001b[39;00m\u001b[38;5;132;01m{\u001b[39;00mqualification\u001b[38;5;132;01m}\u001b[39;00m\u001b[38;5;124m'\u001b[39m\n\u001b[1;32m    181\u001b[0m                   \u001b[38;5;124mf\u001b[39m\u001b[38;5;124m'\u001b[39m\u001b[38;5;124m \u001b[39m\u001b[38;5;132;01m{\u001b[39;00m\u001b[38;5;28mlist\u001b[39m(supported)\u001b[38;5;132;01m}\u001b[39;00m\u001b[38;5;124m: pass \u001b[39m\u001b[38;5;132;01m{\u001b[39;00mwanted\u001b[38;5;132;01m}\u001b[39;00m\u001b[38;5;124m as keyword arg\u001b[39m\u001b[38;5;132;01m{\u001b[39;00ms_\u001b[38;5;132;01m}\u001b[39;00m\u001b[38;5;124m'\u001b[39m,\n\u001b[1;32m    182\u001b[0m                   stacklevel\u001b[38;5;241m=\u001b[39mstacklevel,\n\u001b[1;32m    183\u001b[0m                   category\u001b[38;5;241m=\u001b[39mcategory)\n\u001b[0;32m--> 185\u001b[0m \u001b[38;5;28;01mreturn\u001b[39;00m \u001b[43mfunc\u001b[49m\u001b[43m(\u001b[49m\u001b[38;5;241;43m*\u001b[39;49m\u001b[43margs\u001b[49m\u001b[43m,\u001b[49m\u001b[43m \u001b[49m\u001b[38;5;241;43m*\u001b[39;49m\u001b[38;5;241;43m*\u001b[39;49m\u001b[43mkwargs\u001b[49m\u001b[43m)\u001b[49m\n",
      "File \u001b[0;32m~/.local/lib/python3.10/site-packages/graphviz/piping.py:121\u001b[0m, in \u001b[0;36mPipe._pipe_legacy\u001b[0;34m(self, format, renderer, formatter, neato_no_op, quiet, engine, encoding)\u001b[0m\n\u001b[1;32m    112\u001b[0m \u001b[38;5;129m@_tools\u001b[39m\u001b[38;5;241m.\u001b[39mdeprecate_positional_args(supported_number\u001b[38;5;241m=\u001b[39m\u001b[38;5;241m1\u001b[39m, ignore_arg\u001b[38;5;241m=\u001b[39m\u001b[38;5;124m'\u001b[39m\u001b[38;5;124mself\u001b[39m\u001b[38;5;124m'\u001b[39m)\n\u001b[1;32m    113\u001b[0m \u001b[38;5;28;01mdef\u001b[39;00m \u001b[38;5;21m_pipe_legacy\u001b[39m(\u001b[38;5;28mself\u001b[39m,\n\u001b[1;32m    114\u001b[0m                  \u001b[38;5;28mformat\u001b[39m: typing\u001b[38;5;241m.\u001b[39mOptional[\u001b[38;5;28mstr\u001b[39m] \u001b[38;5;241m=\u001b[39m \u001b[38;5;28;01mNone\u001b[39;00m,\n\u001b[0;32m   (...)\u001b[0m\n\u001b[1;32m    119\u001b[0m                  engine: typing\u001b[38;5;241m.\u001b[39mOptional[\u001b[38;5;28mstr\u001b[39m] \u001b[38;5;241m=\u001b[39m \u001b[38;5;28;01mNone\u001b[39;00m,\n\u001b[1;32m    120\u001b[0m                  encoding: typing\u001b[38;5;241m.\u001b[39mOptional[\u001b[38;5;28mstr\u001b[39m] \u001b[38;5;241m=\u001b[39m \u001b[38;5;28;01mNone\u001b[39;00m) \u001b[38;5;241m-\u001b[39m\u001b[38;5;241m>\u001b[39m typing\u001b[38;5;241m.\u001b[39mUnion[\u001b[38;5;28mbytes\u001b[39m, \u001b[38;5;28mstr\u001b[39m]:\n\u001b[0;32m--> 121\u001b[0m     \u001b[38;5;28;01mreturn\u001b[39;00m \u001b[38;5;28;43mself\u001b[39;49m\u001b[38;5;241;43m.\u001b[39;49m\u001b[43m_pipe_future\u001b[49m\u001b[43m(\u001b[49m\u001b[38;5;28;43mformat\u001b[39;49m\u001b[43m,\u001b[49m\n\u001b[1;32m    122\u001b[0m \u001b[43m                             \u001b[49m\u001b[43mrenderer\u001b[49m\u001b[38;5;241;43m=\u001b[39;49m\u001b[43mrenderer\u001b[49m\u001b[43m,\u001b[49m\n\u001b[1;32m    123\u001b[0m \u001b[43m                             \u001b[49m\u001b[43mformatter\u001b[49m\u001b[38;5;241;43m=\u001b[39;49m\u001b[43mformatter\u001b[49m\u001b[43m,\u001b[49m\n\u001b[1;32m    124\u001b[0m \u001b[43m                             \u001b[49m\u001b[43mneato_no_op\u001b[49m\u001b[38;5;241;43m=\u001b[39;49m\u001b[43mneato_no_op\u001b[49m\u001b[43m,\u001b[49m\n\u001b[1;32m    125\u001b[0m \u001b[43m                             \u001b[49m\u001b[43mquiet\u001b[49m\u001b[38;5;241;43m=\u001b[39;49m\u001b[43mquiet\u001b[49m\u001b[43m,\u001b[49m\n\u001b[1;32m    126\u001b[0m \u001b[43m                             \u001b[49m\u001b[43mengine\u001b[49m\u001b[38;5;241;43m=\u001b[39;49m\u001b[43mengine\u001b[49m\u001b[43m,\u001b[49m\n\u001b[1;32m    127\u001b[0m \u001b[43m                             \u001b[49m\u001b[43mencoding\u001b[49m\u001b[38;5;241;43m=\u001b[39;49m\u001b[43mencoding\u001b[49m\u001b[43m)\u001b[49m\n",
      "File \u001b[0;32m~/.local/lib/python3.10/site-packages/graphviz/piping.py:149\u001b[0m, in \u001b[0;36mPipe._pipe_future\u001b[0;34m(self, format, renderer, formatter, neato_no_op, quiet, engine, encoding)\u001b[0m\n\u001b[1;32m    146\u001b[0m \u001b[38;5;28;01mif\u001b[39;00m encoding \u001b[38;5;129;01mis\u001b[39;00m \u001b[38;5;129;01mnot\u001b[39;00m \u001b[38;5;28;01mNone\u001b[39;00m:\n\u001b[1;32m    147\u001b[0m     \u001b[38;5;28;01mif\u001b[39;00m codecs\u001b[38;5;241m.\u001b[39mlookup(encoding) \u001b[38;5;129;01mis\u001b[39;00m codecs\u001b[38;5;241m.\u001b[39mlookup(\u001b[38;5;28mself\u001b[39m\u001b[38;5;241m.\u001b[39mencoding):\n\u001b[1;32m    148\u001b[0m         \u001b[38;5;66;03m# common case: both stdin and stdout need the same encoding\u001b[39;00m\n\u001b[0;32m--> 149\u001b[0m         \u001b[38;5;28;01mreturn\u001b[39;00m \u001b[38;5;28;43mself\u001b[39;49m\u001b[38;5;241;43m.\u001b[39;49m\u001b[43m_pipe_lines_string\u001b[49m\u001b[43m(\u001b[49m\u001b[38;5;241;43m*\u001b[39;49m\u001b[43margs\u001b[49m\u001b[43m,\u001b[49m\u001b[43m \u001b[49m\u001b[43mencoding\u001b[49m\u001b[38;5;241;43m=\u001b[39;49m\u001b[43mencoding\u001b[49m\u001b[43m,\u001b[49m\u001b[43m \u001b[49m\u001b[38;5;241;43m*\u001b[39;49m\u001b[38;5;241;43m*\u001b[39;49m\u001b[43mkwargs\u001b[49m\u001b[43m)\u001b[49m\n\u001b[1;32m    150\u001b[0m     \u001b[38;5;28;01mtry\u001b[39;00m:\n\u001b[1;32m    151\u001b[0m         raw \u001b[38;5;241m=\u001b[39m \u001b[38;5;28mself\u001b[39m\u001b[38;5;241m.\u001b[39m_pipe_lines(\u001b[38;5;241m*\u001b[39margs, input_encoding\u001b[38;5;241m=\u001b[39m\u001b[38;5;28mself\u001b[39m\u001b[38;5;241m.\u001b[39mencoding, \u001b[38;5;241m*\u001b[39m\u001b[38;5;241m*\u001b[39mkwargs)\n",
      "File \u001b[0;32m~/.local/lib/python3.10/site-packages/graphviz/backend/piping.py:212\u001b[0m, in \u001b[0;36mpipe_lines_string\u001b[0;34m(engine, format, input_lines, encoding, renderer, formatter, neato_no_op, quiet)\u001b[0m\n\u001b[1;32m    206\u001b[0m cmd \u001b[38;5;241m=\u001b[39m dot_command\u001b[38;5;241m.\u001b[39mcommand(engine, \u001b[38;5;28mformat\u001b[39m,\n\u001b[1;32m    207\u001b[0m                           renderer\u001b[38;5;241m=\u001b[39mrenderer,\n\u001b[1;32m    208\u001b[0m                           formatter\u001b[38;5;241m=\u001b[39mformatter,\n\u001b[1;32m    209\u001b[0m                           neato_no_op\u001b[38;5;241m=\u001b[39mneato_no_op)\n\u001b[1;32m    210\u001b[0m kwargs \u001b[38;5;241m=\u001b[39m {\u001b[38;5;124m'\u001b[39m\u001b[38;5;124minput_lines\u001b[39m\u001b[38;5;124m'\u001b[39m: input_lines, \u001b[38;5;124m'\u001b[39m\u001b[38;5;124mencoding\u001b[39m\u001b[38;5;124m'\u001b[39m: encoding}\n\u001b[0;32m--> 212\u001b[0m proc \u001b[38;5;241m=\u001b[39m \u001b[43mexecute\u001b[49m\u001b[38;5;241;43m.\u001b[39;49m\u001b[43mrun_check\u001b[49m\u001b[43m(\u001b[49m\u001b[43mcmd\u001b[49m\u001b[43m,\u001b[49m\u001b[43m \u001b[49m\u001b[43mcapture_output\u001b[49m\u001b[38;5;241;43m=\u001b[39;49m\u001b[38;5;28;43;01mTrue\u001b[39;49;00m\u001b[43m,\u001b[49m\u001b[43m \u001b[49m\u001b[43mquiet\u001b[49m\u001b[38;5;241;43m=\u001b[39;49m\u001b[43mquiet\u001b[49m\u001b[43m,\u001b[49m\u001b[43m \u001b[49m\u001b[38;5;241;43m*\u001b[39;49m\u001b[38;5;241;43m*\u001b[39;49m\u001b[43mkwargs\u001b[49m\u001b[43m)\u001b[49m\n\u001b[1;32m    213\u001b[0m \u001b[38;5;28;01mreturn\u001b[39;00m proc\u001b[38;5;241m.\u001b[39mstdout\n",
      "File \u001b[0;32m~/.local/lib/python3.10/site-packages/graphviz/backend/execute.py:81\u001b[0m, in \u001b[0;36mrun_check\u001b[0;34m(cmd, input_lines, encoding, quiet, **kwargs)\u001b[0m\n\u001b[1;32m     79\u001b[0m \u001b[38;5;28;01mexcept\u001b[39;00m \u001b[38;5;167;01mOSError\u001b[39;00m \u001b[38;5;28;01mas\u001b[39;00m e:\n\u001b[1;32m     80\u001b[0m     \u001b[38;5;28;01mif\u001b[39;00m e\u001b[38;5;241m.\u001b[39merrno \u001b[38;5;241m==\u001b[39m errno\u001b[38;5;241m.\u001b[39mENOENT:\n\u001b[0;32m---> 81\u001b[0m         \u001b[38;5;28;01mraise\u001b[39;00m ExecutableNotFound(cmd) \u001b[38;5;28;01mfrom\u001b[39;00m \u001b[38;5;21;01me\u001b[39;00m\n\u001b[1;32m     82\u001b[0m     \u001b[38;5;28;01mraise\u001b[39;00m\n\u001b[1;32m     84\u001b[0m \u001b[38;5;28;01mif\u001b[39;00m \u001b[38;5;129;01mnot\u001b[39;00m quiet \u001b[38;5;129;01mand\u001b[39;00m proc\u001b[38;5;241m.\u001b[39mstderr:\n",
      "\u001b[0;31mExecutableNotFound\u001b[0m: failed to execute PosixPath('dot'), make sure the Graphviz executables are on your systems' PATH"
     ]
    }
   ],
   "source": [
    "print(dot.source)\n",
    "display.display_svg(dot)  # paste the source at www.webgraphviz.com if this does not produce anything "
   ]
  },
  {
   "cell_type": "markdown",
   "metadata": {},
   "source": [
    "### - Task 3b: (10 Points) From RDF to .dot with \"semantic information\""
   ]
  },
  {
   "cell_type": "markdown",
   "metadata": {},
   "source": [
    "There is a conceptual distinction between properties, instances and classes (sets of instances). A simple way of checking is the following\n",
    "\n",
    "1. in a triple (s a o), with predicate a (which is a special abbreviation for the predicate rdf:type), the s is an Instance, and o is a Class. \n",
    "2. in a triple (s rdfs:subClassOf o) both s and o are Classes. \n",
    "3. in a triple (p rdfs:domain o) p is a Property and o is a Class. \n",
    "4. in a triple (p rdfs:range o)  p is a Property and o is a Class. \n",
    "\n",
    "Update the .dot representation for an RDF graph that:\n",
    "\n",
    "- renders all predicates that are defined in the RDF namespace as dotted lines,\n",
    "- renders all classes as rectangles,\n",
    "- renders all literals as plain text (no enclosure), and\n",
    "- renders all instances with the color blue. \n",
    "\n",
    "Check how your graph looks once finished. Hint: you can use the `color`, `shape` and `style` attributes in the node and edge function (see the documentation)."
   ]
  },
  {
   "cell_type": "code",
   "execution_count": 38,
   "metadata": {},
   "outputs": [
    {
     "name": "stdout",
     "output_type": "stream",
     "text": [
      "strict digraph {\n",
      "\tgraph [dpi=50]\n",
      "\tKralendijk [color=lightblue style=filled]\n",
      "\tCapital [shape=rectangle]\n",
      "\tKralendijk -> Capital [label=type style=dotted]\n",
      "\tOranjestad [color=lightblue style=filled]\n",
      "\tCapital [shape=rectangle]\n",
      "\tOranjestad -> Capital [label=type style=dotted]\n",
      "\tCapital [shape=rectangle]\n",
      "\tCity [shape=rectangle]\n",
      "\tCapital -> City [label=subClassOf style=dotted]\n",
      "\tNetherlands\n",
      "\tAmsterdam\n",
      "\tNetherlands -> Amsterdam [label=hasCapital]\n",
      "\tBonaire [color=lightblue style=filled]\n",
      "\tCountry [shape=rectangle]\n",
      "\tBonaire -> Country [label=type style=dotted]\n",
      "\tKralendijk\n",
      "\t\"\\\"Kralendijk\\\"\" [shape=plaintext]\n",
      "\tKralendijk -> \"\\\"Kralendijk\\\"\" [label=hasName]\n",
      "\tBonaire\n",
      "\t\"\\\"Bonaire\\\"\" [shape=plaintext]\n",
      "\tBonaire -> \"\\\"Bonaire\\\"\" [label=hasName]\n",
      "\tNetherlands\n",
      "\t\"\\\"The Netherlands\\\"\" [shape=plaintext]\n",
      "\tNetherlands -> \"\\\"The Netherlands\\\"\" [label=hasName]\n",
      "\tBelgium [color=lightblue style=filled]\n",
      "\tCountry [shape=rectangle]\n",
      "\tBelgium -> Country [label=type style=dotted]\n",
      "\tAmsterdam [color=lightblue style=filled]\n",
      "\tCapital [shape=rectangle]\n",
      "\tAmsterdam -> Capital [label=type style=dotted]\n",
      "\tAruba [color=lightblue style=filled]\n",
      "\tCountry [shape=rectangle]\n",
      "\tAruba -> Country [label=type style=dotted]\n",
      "\tCuracao [color=lightblue style=filled]\n",
      "\tCountry [shape=rectangle]\n",
      "\tCuracao -> Country [label=type style=dotted]\n",
      "\tCuracao\n",
      "\t\"\\\"Curaçao\\\"\" [shape=plaintext]\n",
      "\tCuracao -> \"\\\"Curaçao\\\"\" [label=hasName]\n",
      "\tBonaire\n",
      "\tCuracao\n",
      "\tBonaire -> Curacao [label=neighbours]\n",
      "\tCuracao\n",
      "\tAruba\n",
      "\tCuracao -> Aruba [label=neighbours]\n",
      "\tWillemstad [color=lightblue style=filled]\n",
      "\tCapital [shape=rectangle]\n",
      "\tWillemstad -> Capital [label=type style=dotted]\n",
      "\tNetherlands\n",
      "\tBelgium\n",
      "\tNetherlands -> Belgium [label=neighbours]\n",
      "\tBonaire\n",
      "\tKralendijk\n",
      "\tBonaire -> Kralendijk [label=hasCapital]\n",
      "\tNetherlands [color=lightblue style=filled]\n",
      "\tCountry [shape=rectangle]\n",
      "\tNetherlands -> Country [label=type style=dotted]\n",
      "\tCity [shape=rectangle]\n",
      "\tcontainsCity -> City [label=range style=dotted]\n",
      "\tCuracao\n",
      "\tWillemstad\n",
      "\tCuracao -> Willemstad [label=hasCapital]\n",
      "\tAruba\n",
      "\tCuracao\n",
      "\tAruba -> Curacao [label=neighbours]\n",
      "\tCountry [shape=rectangle]\n",
      "\tcontainsCity -> Country [label=domain style=dotted]\n",
      "\tAruba\n",
      "\t\"\\\"Aruba\\\"\" [shape=plaintext]\n",
      "\tAruba -> \"\\\"Aruba\\\"\" [label=hasName]\n",
      "\tAruba\n",
      "\tOranjestad\n",
      "\tAruba -> Oranjestad [label=hasCapital]\n",
      "\tGermany [color=lightblue style=filled]\n",
      "\tEuropeanCountry [shape=rectangle]\n",
      "\tGermany -> EuropeanCountry [label=type style=dotted]\n",
      "\thasCapital\n",
      "\tcontainsCity\n",
      "\thasCapital -> containsCity [label=subPropertyOf]\n",
      "\tWillemstad\n",
      "\t\"\\\"Willemstad\\\"\" [shape=plaintext]\n",
      "\tWillemstad -> \"\\\"Willemstad\\\"\" [label=hasName]\n",
      "\tOranjestad\n",
      "\t\"\\\"Oranjestad\\\"\" [shape=plaintext]\n",
      "\tOranjestad -> \"\\\"Oranjestad\\\"\" [label=hasName]\n",
      "\tCapital [shape=rectangle]\n",
      "\thasCapital -> Capital [label=range style=dotted]\n",
      "\tEuropeanCountry [shape=rectangle]\n",
      "\tCountry [shape=rectangle]\n",
      "\tEuropeanCountry -> Country [label=subClassOf style=dotted]\n",
      "\tCuracao\n",
      "\tBonaire\n",
      "\tCuracao -> Bonaire [label=neighbours]\n",
      "}\n",
      "\n"
     ]
    }
   ],
   "source": [
    "dot = graphviz.Digraph(strict=True, graph_attr={\"dpi\":\"50\"})  # adjust dpi to scale graph\n",
    "for s,p,o in g:\n",
    "    strippedS = strip(s, isinstance(s, Literal))\n",
    "    strippedP = strip(p, isinstance(p, Literal))\n",
    "    strippedO = strip(o, isinstance(o, Literal))\n",
    "    # print(strippedS, strippedP, strippedO)\n",
    "\n",
    "    if p == RDF.type:\n",
    "        dot.node(strippedS, color = \"lightblue\", style = \"filled\")\n",
    "        if isinstance(o, Literal):  # all literals plain text\n",
    "            dot.node(strippedO, shape=\"plaintext\")\n",
    "        else:\n",
    "            dot.node(strippedO, shape= \"rectangle\")\n",
    "        dot.edge(strippedS, strippedO, label=strippedP, style=\"dotted\")\n",
    "\n",
    "    elif strippedP == \"subClassOf\":\n",
    "        dot.node(strippedS, shape = \"rectangle\")\n",
    "        if isinstance(o, Literal):  # all literals plain text\n",
    "            dot.node(strippedO, shape=\"plaintext\")\n",
    "        else:\n",
    "            dot.node(strippedO, shape = \"rectangle\")\n",
    "        dot.edge(strippedS, strippedO, label=strippedP, style=\"dotted\")\n",
    "\n",
    "    elif strippedP == \"domain\" or strippedP == \"range\":\n",
    "        if isinstance(o, Literal):  # all literals plain text\n",
    "            dot.node(strippedO, shape=\"plaintext\")\n",
    "        else:\n",
    "            dot.node(strippedO, shape = \"rectangle\")\n",
    "        dot.edge(strippedS, strippedO, label=strippedP, style=\"dotted\")\n",
    "        # optionally, you could style property nodes differently if desired\n",
    "    else:\n",
    "        dot.node(strippedS)\n",
    "        if isinstance(o, Literal):  # all literals plain text\n",
    "            dot.node(strippedO, shape=\"plaintext\")\n",
    "        else:\n",
    "            dot.node(strippedO)\n",
    "        dot.edge(strippedS, strippedO, label=strippedP)\n",
    "print(dot.source)\n"
   ]
  },
  {
   "cell_type": "markdown",
   "metadata": {},
   "source": [
    "### - Task 4: (10 Points) Deriving implicit knowledge (a bit of schema)\n",
    "\n",
    "We will look into Schema information in the latter modules, but let us try already to find some implicit information in a first bit of inferencing: whenever there are two statements (s rdf:type o) and (o rdfs:subClassOf o2) we can derive (and later prove) that (s rdf:type o2). \n",
    "\n",
    "Write a procedure that adds all implied triples to our knowledge graph, and which prints each implied triple."
   ]
  },
  {
   "cell_type": "code",
   "execution_count": 39,
   "metadata": {},
   "outputs": [
    {
     "name": "stdout",
     "output_type": "stream",
     "text": [
      "strict digraph {\n",
      "\tgraph [dpi=50]\n",
      "\tKralendijk [color=lightblue style=filled]\n",
      "\tCapital [shape=rectangle]\n",
      "\tKralendijk -> Capital [label=type style=dotted]\n",
      "\tOranjestad [color=lightblue style=filled]\n",
      "\tCapital [shape=rectangle]\n",
      "\tOranjestad -> Capital [label=type style=dotted]\n",
      "\tCapital [shape=rectangle]\n",
      "\tCity [shape=rectangle]\n",
      "\tCapital -> City [label=subClassOf style=dotted]\n",
      "\tNetherlands\n",
      "\tAmsterdam\n",
      "\tNetherlands -> Amsterdam [label=hasCapital]\n",
      "\tBonaire [color=lightblue style=filled]\n",
      "\tCountry [shape=rectangle]\n",
      "\tBonaire -> Country [label=type style=dotted]\n",
      "\tKralendijk\n",
      "\t\"\\\"Kralendijk\\\"\" [shape=plaintext]\n",
      "\tKralendijk -> \"\\\"Kralendijk\\\"\" [label=hasName]\n",
      "\tBonaire\n",
      "\t\"\\\"Bonaire\\\"\" [shape=plaintext]\n",
      "\tBonaire -> \"\\\"Bonaire\\\"\" [label=hasName]\n",
      "\tNetherlands\n",
      "\t\"\\\"The Netherlands\\\"\" [shape=plaintext]\n",
      "\tNetherlands -> \"\\\"The Netherlands\\\"\" [label=hasName]\n",
      "\tBelgium [color=lightblue style=filled]\n",
      "\tCountry [shape=rectangle]\n",
      "\tBelgium -> Country [label=type style=dotted]\n",
      "\tAmsterdam [color=lightblue style=filled]\n",
      "\tCapital [shape=rectangle]\n",
      "\tAmsterdam -> Capital [label=type style=dotted]\n",
      "\tAruba [color=lightblue style=filled]\n",
      "\tCountry [shape=rectangle]\n",
      "\tAruba -> Country [label=type style=dotted]\n",
      "\tCuracao [color=lightblue style=filled]\n",
      "\tCountry [shape=rectangle]\n",
      "\tCuracao -> Country [label=type style=dotted]\n",
      "\tCuracao\n",
      "\t\"\\\"Curaçao\\\"\" [shape=plaintext]\n",
      "\tCuracao -> \"\\\"Curaçao\\\"\" [label=hasName]\n",
      "\tBonaire\n",
      "\tCuracao\n",
      "\tBonaire -> Curacao [label=neighbours]\n",
      "\tCuracao\n",
      "\tAruba\n",
      "\tCuracao -> Aruba [label=neighbours]\n",
      "\tWillemstad [color=lightblue style=filled]\n",
      "\tCapital [shape=rectangle]\n",
      "\tWillemstad -> Capital [label=type style=dotted]\n",
      "\tNetherlands\n",
      "\tBelgium\n",
      "\tNetherlands -> Belgium [label=neighbours]\n",
      "\tBonaire\n",
      "\tKralendijk\n",
      "\tBonaire -> Kralendijk [label=hasCapital]\n",
      "\tNetherlands [color=lightblue style=filled]\n",
      "\tCountry [shape=rectangle]\n",
      "\tNetherlands -> Country [label=type style=dotted]\n",
      "\tCity [shape=rectangle]\n",
      "\tcontainsCity -> City [label=range style=dotted]\n",
      "\tCuracao\n",
      "\tWillemstad\n",
      "\tCuracao -> Willemstad [label=hasCapital]\n",
      "\tAruba\n",
      "\tCuracao\n",
      "\tAruba -> Curacao [label=neighbours]\n",
      "\tCountry [shape=rectangle]\n",
      "\tcontainsCity -> Country [label=domain style=dotted]\n",
      "\tAruba\n",
      "\t\"\\\"Aruba\\\"\" [shape=plaintext]\n",
      "\tAruba -> \"\\\"Aruba\\\"\" [label=hasName]\n",
      "\tAruba\n",
      "\tOranjestad\n",
      "\tAruba -> Oranjestad [label=hasCapital]\n",
      "\tGermany [color=lightblue style=filled]\n",
      "\tEuropeanCountry [shape=rectangle]\n",
      "\tGermany -> EuropeanCountry [label=type style=dotted]\n",
      "\thasCapital\n",
      "\tcontainsCity\n",
      "\thasCapital -> containsCity [label=subPropertyOf]\n",
      "\tWillemstad\n",
      "\t\"\\\"Willemstad\\\"\" [shape=plaintext]\n",
      "\tWillemstad -> \"\\\"Willemstad\\\"\" [label=hasName]\n",
      "\tOranjestad\n",
      "\t\"\\\"Oranjestad\\\"\" [shape=plaintext]\n",
      "\tOranjestad -> \"\\\"Oranjestad\\\"\" [label=hasName]\n",
      "\tCapital [shape=rectangle]\n",
      "\thasCapital -> Capital [label=range style=dotted]\n",
      "\tEuropeanCountry [shape=rectangle]\n",
      "\tCountry [shape=rectangle]\n",
      "\tEuropeanCountry -> Country [label=subClassOf style=dotted]\n",
      "\tCuracao\n",
      "\tBonaire\n",
      "\tCuracao -> Bonaire [label=neighbours]\n",
      "\tKralendijk -> City [label=type style=dotted]\n",
      "\tOranjestad -> City [label=type style=dotted]\n",
      "\tAmsterdam -> City [label=type style=dotted]\n",
      "\tWillemstad -> City [label=type style=dotted]\n",
      "\tGermany -> Country [label=type style=dotted]\n",
      "}\n",
      "\n"
     ]
    }
   ],
   "source": [
    "# Your code here\n",
    "for s,p,o in g:\n",
    "    strippedS = strip(s, type(s) is Literal)\n",
    "    strippedP = strip(p, type(p) is Literal)\n",
    "    strippedO = strip(o, type(o) is Literal)\n",
    "    if p == RDF.type:\n",
    "        # print(\"P is RDF.type\")\n",
    "        for s2,p2,o2 in g:\n",
    "            strippedS2 = strip(s2, type(s2) is Literal)\n",
    "            strippedP2 = strip(p2, type(p2) is Literal)\n",
    "            strippedO2 = strip(o2, type(o2) is Literal)\n",
    "            if strippedO == strippedS2 and strippedP2 == \"subClassOf\":\n",
    "                # print(f\"Found: {strippedS} is a {strippedO}, which is a subclass of {strippedO2}\")\n",
    "                dot.edge(strippedS, strippedO2, label=strippedP, style=\"dotted\")\n",
    "\n",
    "print(dot.source)\n"
   ]
  },
  {
   "cell_type": "markdown",
   "metadata": {},
   "source": [
    "# C. Tasks related to local copies of external RDF Datasets using SPARQL"
   ]
  },
  {
   "cell_type": "markdown",
   "metadata": {},
   "source": [
    "Until now, we have manipulated local knowledge graphs, but as we claimed in the lectures, the advantage of knowledge graphs is that they can easily be linked with other datasets on the Web. \n",
    "\n",
    "In the remaining 3 tasks, we will manipulate data from the Web, and ask complex queries over this web data. \n",
    "\n",
    "In the first task, we will access web data, make a local copy of it, and then query it. In the other two tasks, we will query live data directly from web Knowledge Graphs (in this case, the SPARQL endpoint of DBPedia). "
   ]
  },
  {
   "cell_type": "markdown",
   "metadata": {},
   "source": [
    "### - Task 5: (10 Points) Show and manipulate data about RDF resources on the Web "
   ]
  },
  {
   "cell_type": "markdown",
   "metadata": {},
   "source": [
    "With rdflib we can easily load a local graph, but we can just as well retrieve a graph from the Web. Here, we will do so using the *requests* library, which allows us to fire a request to any server and/or SPARQL endpoint and to capture the response. The following snippet does so for the resource Netherlands from Dbpedia, by using the 'DESCRIBE' keyword to give us all triples about The Netherlands, and then loads it in a RDFlib Graph object. Note that, in the next assignment, we will learn a more high-level approach that hides most of the raw request details.\n",
    "\n",
    "Should, for some external reason, the code below fail to retrieve the graph from DBpedia, then you can manually load the turtle file `dbpedia_AmsterdamBelgium.ttl` which is located in this directory and which contains the same triples. Only do this as a last resort!"
   ]
  },
  {
   "cell_type": "code",
   "execution_count": 40,
   "metadata": {},
   "outputs": [
    {
     "name": "stdout",
     "output_type": "stream",
     "text": [
      "Defaulting to user installation because normal site-packages is not writeable\n",
      "Requirement already satisfied: requests in /home/zayne/.local/lib/python3.10/site-packages (2.32.5)\n",
      "Requirement already satisfied: charset_normalizer<4,>=2 in /home/zayne/.local/lib/python3.10/site-packages (from requests) (3.4.3)\n",
      "Requirement already satisfied: idna<4,>=2.5 in /home/zayne/.local/lib/python3.10/site-packages (from requests) (3.10)\n",
      "Requirement already satisfied: urllib3<3,>=1.21.1 in /home/zayne/.local/lib/python3.10/site-packages (from requests) (2.5.0)\n",
      "Requirement already satisfied: certifi>=2017.4.17 in /home/zayne/.local/lib/python3.10/site-packages (from requests) (2025.8.3)\n",
      "Note: you may need to restart the kernel to use updated packages.\n"
     ]
    }
   ],
   "source": [
    "# install the library\n",
    "%pip install requests"
   ]
  },
  {
   "cell_type": "code",
   "execution_count": 41,
   "metadata": {},
   "outputs": [
    {
     "data": {
      "text/plain": [
       "<Graph identifier=N22a0233ad7a0453aab73b5bb463f3796 (<class 'rdflib.graph.Graph'>)>"
      ]
     },
     "execution_count": 41,
     "metadata": {},
     "output_type": "execute_result"
    }
   ],
   "source": [
    "import requests\n",
    "\n",
    "endpoint = \"https://dbpedia.org/sparql\"\n",
    "query = 'DESCRIBE <http://dbpedia.org/resource/Netherlands>'\n",
    "\n",
    "payload = {'query':query, 'format':'text/turtle'}\n",
    "response = requests.post(endpoint, data = payload)\n",
    "\n",
    "g = Graph()\n",
    "g.parse(data=response.text, format='ttl')"
   ]
  },
  {
   "cell_type": "markdown",
   "metadata": {},
   "source": [
    "Now do the same for Belgium"
   ]
  },
  {
   "cell_type": "code",
   "execution_count": 42,
   "metadata": {},
   "outputs": [
    {
     "data": {
      "text/plain": [
       "<Graph identifier=N22a0233ad7a0453aab73b5bb463f3796 (<class 'rdflib.graph.Graph'>)>"
      ]
     },
     "execution_count": 42,
     "metadata": {},
     "output_type": "execute_result"
    }
   ],
   "source": [
    "query = 'DESCRIBE <http://dbpedia.org/resource/Belgium>'\n",
    "\n",
    "payload = {'query':query, 'format':'text/turtle'}\n",
    "response = requests.post(endpoint, data = payload)\n",
    "\n",
    "g.parse(data=response.text, format='ttl')  # calling parse again merges the graphs"
   ]
  },
  {
   "cell_type": "markdown",
   "metadata": {},
   "source": [
    "Let us start by showing diverse bits of information w.r.t  The Netherlands and Belgium in DBPedia. It is very similar to task 1, but now with Web Data. \n",
    "\n",
    "First, query the graph g (now containing the DBPedia information about both countries) and check which motor ways cross both countries."
   ]
  },
  {
   "cell_type": "code",
   "execution_count": 43,
   "metadata": {},
   "outputs": [],
   "source": [
    "qres = g.query(\n",
    "   \"\"\"\n",
    "    PREFIX dbr: <http://dbpedia.org/resource/>\n",
    "    PREFIX dbo: <http://dbpedia.org/ontology/>\n",
    "    SELECT ?s\n",
    "        WHERE {\n",
    "            ?s a dbo:Road ;\n",
    "               dbo:county dbr:Netherlands ;\n",
    "               dbo:county dbr:Belgium .\n",
    "        }\n",
    "        LIMIT 10\n",
    "       \"\"\")\n",
    "for row in qres:\n",
    "    print(\"%s\" % row)"
   ]
  },
  {
   "cell_type": "markdown",
   "metadata": {},
   "source": [
    "Write a query to check whether you can find someone who was born in The Netherlands and died in Belgium? You need to look at the data to know which property you should check for. \n",
    "\n",
    "To get an intuition of what is in the knowledge graph you might want to look at the human readable rendering on : http://dbpedia.org/resource/Netherlands"
   ]
  },
  {
   "cell_type": "code",
   "execution_count": 44,
   "metadata": {
    "scrolled": true
   },
   "outputs": [],
   "source": [
    "# Your code here\n",
    "qres = g.query(\n",
    "   \"\"\"\n",
    "    PREFIX dbr: <http://dbpedia.org/resource/>\n",
    "    PREFIX dbo: <http://dbpedia.org/ontology/>\n",
    "    SELECT ?s\n",
    "        WHERE {\n",
    "            ?s a dbo:Person ;\n",
    "            dbo:birthPlace dbr:Netherlands ;\n",
    "            dbo:deathPlace dbr:Belgium .\n",
    "        }\n",
    "\n",
    "        \n",
    "        LIMIT 10\n",
    "       \"\"\")\n",
    "for row in qres:\n",
    "    print(\"%s\" % row)"
   ]
  },
  {
   "cell_type": "markdown",
   "metadata": {},
   "source": [
    "### - Task 6: (20 Points) Ask SPARQL against live data using Yasgui\n",
    "\n",
    "Yasgui (https://yasgui.triply.cc) is a nice graphical interface for asking queries.\n",
    "\n",
    "Run a new query against http://dbpedia.org/sparql that does the following:\n",
    "\n",
    "- Find all languages spoken in countries that are not official languages of that country.\n",
    "- The query should return two colums: the country, and the number of languages.\n",
    "- Order the countries by the number of unofficial languages, from high to low.\n",
    "\n",
    "Note that\n",
    "- Countries are assumed to be of type `dbo:Country`\n",
    "- Languages are assumed to be of type `dbo:Language` (and can be linked by many different predicates)\n",
    "- Official languages are linked using predicate `dbo:officialLanguage`\n",
    "- Not all countries have an official language (in which case we return all linked languages)\n",
    "\n",
    "Hint: there is more than one possible solution. See https://www.w3.org/TR/sparql11-query/ for documentation on SPARQL."
   ]
  },
  {
   "cell_type": "code",
   "execution_count": 45,
   "metadata": {},
   "outputs": [
    {
     "data": {
      "text/plain": [
       "'\\nPREFIX dbo: <http://dbpedia.org/ontology/>\\nPREFIX rdf: <http://www.w3.org/1999/02/22-rdf-syntax-ns#>\\nPREFIX rdfs: <http://www.w3.org/2000/01/rdf-schema#>\\nselect ?country (count(?Languages) AS ?nonOfficialLanguages) WHERE {\\n  ?country a dbo:Country .\\n  ?country dbo:language ?Languages .\\n  optional {?country dbo:officialLanguage ?officialLanguage} .\\n  filter (!bound(?officialLanguage) || ?Languages != ?officialLanguage)} \\ngroup by ?country\\norder by desc(?nonOfficialLanguages)\\n'"
      ]
     },
     "execution_count": 45,
     "metadata": {},
     "output_type": "execute_result"
    }
   ],
   "source": [
    "'''\n",
    "PREFIX dbo: <http://dbpedia.org/ontology/>\n",
    "PREFIX rdf: <http://www.w3.org/1999/02/22-rdf-syntax-ns#>\n",
    "PREFIX rdfs: <http://www.w3.org/2000/01/rdf-schema#>\n",
    "select ?country (count(?Languages) AS ?nonOfficialLanguages) WHERE {\n",
    "  ?country a dbo:Country .\n",
    "  ?country dbo:language ?Languages .\n",
    "  optional {?country dbo:officialLanguage ?officialLanguage} .\n",
    "  filter (!bound(?officialLanguage) || ?Languages != ?officialLanguage)} \n",
    "group by ?country\n",
    "order by desc(?nonOfficialLanguages)\n",
    "'''"
   ]
  }
 ],
 "metadata": {
  "kernelspec": {
   "display_name": "Python 3",
   "language": "python",
   "name": "python3"
  },
  "language_info": {
   "codemirror_mode": {
    "name": "ipython",
    "version": 3
   },
   "file_extension": ".py",
   "mimetype": "text/x-python",
   "name": "python",
   "nbconvert_exporter": "python",
   "pygments_lexer": "ipython3",
   "version": "3.10.12"
  }
 },
 "nbformat": 4,
 "nbformat_minor": 4
}
