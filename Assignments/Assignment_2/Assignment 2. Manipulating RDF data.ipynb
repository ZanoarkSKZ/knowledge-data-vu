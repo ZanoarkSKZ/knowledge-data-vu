{
 "cells": [
  {
   "cell_type": "markdown",
   "metadata": {},
   "source": [
    "# Knowledge and Data: Practical Assignment 2\n",
    "## Manipulate local and external RDF Knowledge Graphs "
   ]
  },
  {
   "cell_type": "markdown",
   "metadata": {},
   "source": [
    "YOUR NAME: Zayne Melendez\n",
    "\n",
    "YOUR VUNetID: zme209\n",
    "\n",
    "*(If you do not provide your name and VUNetID we will not accept your submission).*"
   ]
  },
  {
   "cell_type": "markdown",
   "metadata": {},
   "source": [
    "### Learning objectives"
   ]
  },
  {
   "cell_type": "markdown",
   "metadata": {},
   "source": [
    "At the end of this exercise you should be able to perform some simple manipulations of RDF Data using the rdflib library. You should be able to: \n",
    "\n",
    "1. Add and retrieve information from a local RDF database\n",
    "2. Represent RDF data in other formats, such as the .dot format for graph visualisation\n",
    "3. Retrieve information from an RDF database created from Web Data\n",
    "4. Query information from the Web with SPARQL"
   ]
  },
  {
   "cell_type": "markdown",
   "metadata": {},
   "source": [
    "### Practicalities"
   ]
  },
  {
   "cell_type": "markdown",
   "metadata": {},
   "source": [
    "Follow this Notebook step-by-step. \n",
    "\n",
    "Of course, you can do the exercises in any Programming Editor of your liking. \n",
    "But you do not have to. Feel free to simply write code in the Notebook. When \n",
    "everything is filled in and works, save the Notebook and submit it \n",
    "as a Jupyter Notebook, i.e. with an .ipynb extension. Please use as name of the \n",
    "Notebook your studentID+Assignment2.ipynb.  \n",
    "\n",
    "We will not evaluate the programming style of your solutions. Yet we do look whether your solutions suggests an understanding, and whether they yield the correct output.\n",
    "\n",
    "Note that all notebooks will automatically be checked for plagiarism: while similar answers can be expected, it is not allowed to directly copy the solutions from fellow students or TAs, or from the examples discussed during the lectures. Similarly, sharing your solutions with your peers is not allowed."
   ]
  },
  {
   "cell_type": "markdown",
   "metadata": {},
   "source": [
    "# A. Tasks related to local RDF Knowledge Graphs"
   ]
  },
  {
   "cell_type": "markdown",
   "metadata": {},
   "source": [
    "This first cell will open a file 'example-from-slide.ttl' using the rdflib library. The first Practical Assignment should have taught you that manipulating symbols as strings is a major pain. \n",
    "\n",
    "Programming libraries, such as **rdflib**, help you with this mess once and for all, by parsing the files, creating appropriate datastructures (Graph()) and providing useful functions (such as serialize(), save() and much more). \n",
    "Check the website of rdflib http://rdflib.readthedocs.io/: this library does most of the hard work for you."
   ]
  },
  {
   "cell_type": "code",
   "execution_count": 47,
   "metadata": {},
   "outputs": [
    {
     "name": "stdout",
     "output_type": "stream",
     "text": [
      "Defaulting to user installation because normal site-packages is not writeable\n",
      "Requirement already satisfied: rdflib in /home/zayne/.local/lib/python3.10/site-packages (7.1.4)\n",
      "Requirement already satisfied: isodate<1.0.0,>=0.7.2 in /home/zayne/.local/lib/python3.10/site-packages (from rdflib) (0.7.2)\n",
      "Requirement already satisfied: pyparsing<4,>=2.1.0 in /usr/lib/python3/dist-packages (from rdflib) (2.4.7)\n",
      "Note: you may need to restart the kernel to use updated packages.\n"
     ]
    }
   ],
   "source": [
    "# Before starting with the tasks of this assignment, do not forget to install **rdflib** so we can start using it. \n",
    "%pip install rdflib"
   ]
  },
  {
   "cell_type": "code",
   "execution_count": 48,
   "metadata": {},
   "outputs": [],
   "source": [
    "from rdflib import Graph, RDF, Namespace, Literal, URIRef\n",
    "\n",
    "g = Graph()\n",
    "\n",
    "EX = Namespace('http://example.com/kad0/')\n",
    "g.bind('ex',EX)\n",
    "\n",
    "def serialize_graph():\n",
    "    # g.serialize() returns a string\n",
    "    print(g.serialize(format='turtle'))\n",
    "\n",
    "def save_graph(filename):\n",
    "    with open(filename, 'w') as f:\n",
    "        g.serialize(f, format='nt')\n",
    "        \n",
    "def load_graph(filename):\n",
    "    with open(filename, 'r') as f:\n",
    "        g.parse(f, format='turtle')   "
   ]
  },
  {
   "cell_type": "markdown",
   "metadata": {},
   "source": [
    "The file 'example-from-slides.ttl' formalises the knowledge base from the slides from Module 1, and a bit more. \n",
    "\n",
    "Here is how it looks when you load it into your program and serialise it with rdflib in turtle. "
   ]
  },
  {
   "cell_type": "code",
   "execution_count": 49,
   "metadata": {},
   "outputs": [
    {
     "name": "stdout",
     "output_type": "stream",
     "text": [
      "@prefix ex1: <http://example.com/kad/> .\n",
      "@prefix rdfs: <http://www.w3.org/2000/01/rdf-schema#> .\n",
      "\n",
      "ex1:Germany a ex1:EuropeanCountry .\n",
      "\n",
      "ex1:Netherlands a ex1:Country ;\n",
      "    ex1:hasCapital ex1:Amsterdam ;\n",
      "    ex1:hasName \"The Netherlands\" ;\n",
      "    ex1:neighbours ex1:Belgium .\n",
      "\n",
      "ex1:hasCapital rdfs:range ex1:Capital ;\n",
      "    rdfs:subPropertyOf ex1:containsCity .\n",
      "\n",
      "ex1:Amsterdam a ex1:Capital .\n",
      "\n",
      "ex1:Belgium a ex1:Country .\n",
      "\n",
      "ex1:EuropeanCountry rdfs:subClassOf ex1:Country .\n",
      "\n",
      "ex1:containsCity rdfs:domain ex1:Country ;\n",
      "    rdfs:range ex1:City .\n",
      "\n",
      "ex1:Capital rdfs:subClassOf ex1:City .\n",
      "\n",
      "\n"
     ]
    }
   ],
   "source": [
    "load_graph('example-from-slides.ttl')\n",
    "serialize_graph()"
   ]
  },
  {
   "cell_type": "markdown",
   "metadata": {},
   "source": [
    "Now, we can manipulate the graph very easily, e.g. like in the following very simple function, which returns the predicate(s) that relate a subject to a literal object: "
   ]
  },
  {
   "cell_type": "code",
   "execution_count": 50,
   "metadata": {
    "scrolled": true
   },
   "outputs": [
    {
     "name": "stdout",
     "output_type": "stream",
     "text": [
      "http://example.com/kad/hasName\n"
     ]
    }
   ],
   "source": [
    "for s,p,o in g:\n",
    "    if type(o) is Literal:\n",
    "        print(p)"
   ]
  },
  {
   "cell_type": "markdown",
   "metadata": {},
   "source": [
    "### - Task 1: (10 Points) Add information to an RDF graph"
   ]
  },
  {
   "cell_type": "markdown",
   "metadata": {},
   "source": [
    "Add triples to the knowledge graph. Make sure that they have the right namespaces. \n",
    "\n",
    "Similarily to the triples already present in the file 'example-from-slides.ttl':\n",
    "- add at least three new countries with their name and capital \n",
    "- add at least one triple with the `neighbour` predicate\n",
    "\n",
    "Check: http://rdflib.readthedocs.io/en/stable/intro_to_creating_rdf.html\n",
    "\n",
    "Remember that ```a``` is Turtle shorthand for ```rdf:type```."
   ]
  },
  {
   "cell_type": "code",
   "execution_count": 51,
   "metadata": {},
   "outputs": [
    {
     "name": "stdout",
     "output_type": "stream",
     "text": [
      "@prefix ex1: <http://example.com/kad/> .\n",
      "@prefix rdfs: <http://www.w3.org/2000/01/rdf-schema#> .\n",
      "\n",
      "ex1:Germany a ex1:EuropeanCountry .\n",
      "\n",
      "ex1:Netherlands a ex1:Country ;\n",
      "    ex1:hasCapital ex1:Amsterdam ;\n",
      "    ex1:hasName \"The Netherlands\" ;\n",
      "    ex1:neighbours ex1:Belgium .\n",
      "\n",
      "ex1:hasCapital rdfs:range ex1:Capital ;\n",
      "    rdfs:subPropertyOf ex1:containsCity .\n",
      "\n",
      "ex1:Amsterdam a ex1:Capital .\n",
      "\n",
      "ex1:Aruba a ex1:Country ;\n",
      "    ex1:hasCapital ex1:Oranjestad ;\n",
      "    ex1:hasName \"Aruba\" ;\n",
      "    ex1:neighbours ex1:Curacao .\n",
      "\n",
      "ex1:Belgium a ex1:Country .\n",
      "\n",
      "ex1:Bonaire a ex1:Country ;\n",
      "    ex1:hasCapital ex1:Kralendijk ;\n",
      "    ex1:hasName \"Bonaire\" ;\n",
      "    ex1:neighbours ex1:Curacao .\n",
      "\n",
      "ex1:EuropeanCountry rdfs:subClassOf ex1:Country .\n",
      "\n",
      "ex1:Kralendijk a ex1:Capital ;\n",
      "    ex1:hasName \"Kralendijk\" .\n",
      "\n",
      "ex1:Oranjestad a ex1:Capital ;\n",
      "    ex1:hasName \"Oranjestad\" .\n",
      "\n",
      "ex1:Willemstad a ex1:Capital ;\n",
      "    ex1:hasName \"Willemstad\" .\n",
      "\n",
      "ex1:containsCity rdfs:domain ex1:Country ;\n",
      "    rdfs:range ex1:City .\n",
      "\n",
      "ex1:Curacao a ex1:Country ;\n",
      "    ex1:hasCapital ex1:Willemstad ;\n",
      "    ex1:hasName \"Curaçao\" ;\n",
      "    ex1:neighbours ex1:Aruba,\n",
      "        ex1:Bonaire .\n",
      "\n",
      "ex1:Capital rdfs:subClassOf ex1:City .\n",
      "\n",
      "\n"
     ]
    }
   ],
   "source": [
    "ex = Namespace(\"http://example.com/kad/\")\n",
    "owl = Namespace(\"http://www.w3.org/2002/07/owl#\")\n",
    "rdf = Namespace(\"http://www.w3.org/1999/02/22-rdf-syntax-ns#\")\n",
    "rdfs = Namespace(\"http://www.w3.org/2000/01/rdf-schema#\")\n",
    "\n",
    "g.add((ex.Curacao, RDF.type, ex.Country))\n",
    "g.add((ex.Curacao, ex.hasCapital, ex.Willemstad))\n",
    "g.add((ex.Curacao, ex.hasName, Literal(\"Curaçao\")))\n",
    "g.add((ex.Willemstad, RDF.type, ex.Capital))\n",
    "g.add((ex.Willemstad, ex.hasName, Literal(\"Willemstad\")))\n",
    "g.add((ex.Curacao, ex.neighbours, ex.Aruba))\n",
    "g.add((ex.Curacao, ex.neighbours, ex.Bonaire))\n",
    "\n",
    "g.add((ex.Bonaire, RDF.type, ex.Country))\n",
    "g.add((ex.Bonaire, ex.hasCapital, ex.Kralendijk))\n",
    "g.add((ex.Bonaire, ex.hasName, Literal(\"Bonaire\")))\n",
    "g.add((ex.Kralendijk, RDF.type, ex.Capital))\n",
    "g.add((ex.Kralendijk, ex.hasName, Literal(\"Kralendijk\")))\n",
    "g.add((ex.Bonaire, ex.neighbours, ex.Curacao))\n",
    "\n",
    "g.add((ex.Aruba, RDF.type, ex.Country))\n",
    "g.add((ex.Aruba, ex.hasCapital, ex.Oranjestad))\n",
    "g.add((ex.Aruba, ex.hasName, Literal(\"Aruba\")))\n",
    "g.add((ex.Oranjestad, RDF.type, ex.Capital))\n",
    "g.add((ex.Oranjestad, ex.hasName, Literal(\"Oranjestad\")))\n",
    "g.add((ex.Aruba, ex.neighbours, ex.Curacao))\n",
    "\n",
    "\n",
    "serialize_graph()"
   ]
  },
  {
   "cell_type": "markdown",
   "metadata": {},
   "source": [
    "*After you ran the previous code (adding triples) the next cells will be executed on your extended graph. That is ok.*"
   ]
  },
  {
   "cell_type": "markdown",
   "metadata": {},
   "source": [
    "### - Task 2a: (10 Points) Get unstructured information from an RDF graph (all Literals)"
   ]
  },
  {
   "cell_type": "markdown",
   "metadata": {},
   "source": [
    "Use the functions available in the RDFLib library. Write a small function to print all Literals. \n",
    "\n",
    "Hint: there is a function in rdflib to test the type of an object (check previous examples in this notebook)"
   ]
  },
  {
   "cell_type": "code",
   "execution_count": 52,
   "metadata": {},
   "outputs": [
    {
     "name": "stdout",
     "output_type": "stream",
     "text": [
      "Kralendijk\n",
      "Bonaire\n",
      "The Netherlands\n",
      "Curaçao\n",
      "Aruba\n",
      "Willemstad\n",
      "Oranjestad\n",
      "Kralendijk\n",
      "Bonaire\n",
      "The Netherlands\n",
      "Curaçao\n",
      "Aruba\n",
      "Willemstad\n",
      "Oranjestad\n",
      "Kralendijk\n",
      "Bonaire\n",
      "The Netherlands\n",
      "Curaçao\n",
      "Aruba\n",
      "Willemstad\n",
      "Oranjestad\n",
      "Kralendijk\n",
      "Bonaire\n",
      "The Netherlands\n",
      "Curaçao\n",
      "Aruba\n",
      "Willemstad\n",
      "Oranjestad\n",
      "Kralendijk\n",
      "Bonaire\n",
      "The Netherlands\n",
      "Curaçao\n",
      "Aruba\n",
      "Willemstad\n",
      "Oranjestad\n",
      "Kralendijk\n",
      "Bonaire\n",
      "The Netherlands\n",
      "Curaçao\n",
      "Aruba\n",
      "Willemstad\n",
      "Oranjestad\n",
      "Kralendijk\n",
      "Bonaire\n",
      "The Netherlands\n",
      "Curaçao\n",
      "Aruba\n",
      "Willemstad\n",
      "Oranjestad\n",
      "Kralendijk\n",
      "Bonaire\n",
      "The Netherlands\n",
      "Curaçao\n",
      "Aruba\n",
      "Willemstad\n",
      "Oranjestad\n",
      "Kralendijk\n",
      "Bonaire\n",
      "The Netherlands\n",
      "Curaçao\n",
      "Aruba\n",
      "Willemstad\n",
      "Oranjestad\n",
      "Kralendijk\n",
      "Bonaire\n",
      "The Netherlands\n",
      "Curaçao\n",
      "Aruba\n",
      "Willemstad\n",
      "Oranjestad\n",
      "Kralendijk\n",
      "Bonaire\n",
      "The Netherlands\n",
      "Curaçao\n",
      "Aruba\n",
      "Willemstad\n",
      "Oranjestad\n",
      "Kralendijk\n",
      "Bonaire\n",
      "The Netherlands\n",
      "Curaçao\n",
      "Aruba\n",
      "Willemstad\n",
      "Oranjestad\n",
      "Kralendijk\n",
      "Bonaire\n",
      "The Netherlands\n",
      "Curaçao\n",
      "Aruba\n",
      "Willemstad\n",
      "Oranjestad\n",
      "Kralendijk\n",
      "Bonaire\n",
      "The Netherlands\n",
      "Curaçao\n",
      "Aruba\n",
      "Willemstad\n",
      "Oranjestad\n",
      "Kralendijk\n",
      "Bonaire\n",
      "The Netherlands\n",
      "Curaçao\n",
      "Aruba\n",
      "Willemstad\n",
      "Oranjestad\n",
      "Kralendijk\n",
      "Bonaire\n",
      "The Netherlands\n",
      "Curaçao\n",
      "Aruba\n",
      "Willemstad\n",
      "Oranjestad\n",
      "Kralendijk\n",
      "Bonaire\n",
      "The Netherlands\n",
      "Curaçao\n",
      "Aruba\n",
      "Willemstad\n",
      "Oranjestad\n",
      "Kralendijk\n",
      "Bonaire\n",
      "The Netherlands\n",
      "Curaçao\n",
      "Aruba\n",
      "Willemstad\n",
      "Oranjestad\n",
      "Kralendijk\n",
      "Bonaire\n",
      "The Netherlands\n",
      "Curaçao\n",
      "Aruba\n",
      "Willemstad\n",
      "Oranjestad\n",
      "Kralendijk\n",
      "Bonaire\n",
      "The Netherlands\n",
      "Curaçao\n",
      "Aruba\n",
      "Willemstad\n",
      "Oranjestad\n",
      "Kralendijk\n",
      "Bonaire\n",
      "The Netherlands\n",
      "Curaçao\n",
      "Aruba\n",
      "Willemstad\n",
      "Oranjestad\n",
      "Kralendijk\n",
      "Bonaire\n",
      "The Netherlands\n",
      "Curaçao\n",
      "Aruba\n",
      "Willemstad\n",
      "Oranjestad\n",
      "Kralendijk\n",
      "Bonaire\n",
      "The Netherlands\n",
      "Curaçao\n",
      "Aruba\n",
      "Willemstad\n",
      "Oranjestad\n",
      "Kralendijk\n",
      "Bonaire\n",
      "The Netherlands\n",
      "Curaçao\n",
      "Aruba\n",
      "Willemstad\n",
      "Oranjestad\n",
      "Kralendijk\n",
      "Bonaire\n",
      "The Netherlands\n",
      "Curaçao\n",
      "Aruba\n",
      "Willemstad\n",
      "Oranjestad\n",
      "Kralendijk\n",
      "Bonaire\n",
      "The Netherlands\n",
      "Curaçao\n",
      "Aruba\n",
      "Willemstad\n",
      "Oranjestad\n",
      "Kralendijk\n",
      "Bonaire\n",
      "The Netherlands\n",
      "Curaçao\n",
      "Aruba\n",
      "Willemstad\n",
      "Oranjestad\n",
      "Kralendijk\n",
      "Bonaire\n",
      "The Netherlands\n",
      "Curaçao\n",
      "Aruba\n",
      "Willemstad\n",
      "Oranjestad\n",
      "Kralendijk\n",
      "Bonaire\n",
      "The Netherlands\n",
      "Curaçao\n",
      "Aruba\n",
      "Willemstad\n",
      "Oranjestad\n",
      "Kralendijk\n",
      "Bonaire\n",
      "The Netherlands\n",
      "Curaçao\n",
      "Aruba\n",
      "Willemstad\n",
      "Oranjestad\n",
      "Kralendijk\n",
      "Bonaire\n",
      "The Netherlands\n",
      "Curaçao\n",
      "Aruba\n",
      "Willemstad\n",
      "Oranjestad\n",
      "Kralendijk\n",
      "Bonaire\n",
      "The Netherlands\n",
      "Curaçao\n",
      "Aruba\n",
      "Willemstad\n",
      "Oranjestad\n"
     ]
    }
   ],
   "source": [
    "for s,p,o in g:\n",
    "    for s,p,o in g:\n",
    "        if type(o) is Literal:\n",
    "            print(o)\n",
    "    pass"
   ]
  },
  {
   "cell_type": "markdown",
   "metadata": {},
   "source": [
    "### - Task 2b: (10 Points) Get structured information from an RDF graph (all unique Predicates)"
   ]
  },
  {
   "cell_type": "markdown",
   "metadata": {},
   "source": [
    "Please provide another function that gives a **unique** list of the predicates, ordered by occurrence (most occurring first). Print the number of occurences next to the predicate. The answer will look similar to this: \n",
    "<br/>7: http://www.w3.org/1999/02/22-rdf-syntax-ns#type\n",
    "<br/>4: http://example.com/kad/hasName\n",
    "<br/>4: http://example.com/kad/hasCapital\n",
    "<br/>2: http://www.w3.org/2000/01/rdf-schema#subClassOf\n",
    "<br/>2: http://www.w3.org/2000/01/rdf-schema#range\n",
    "<br/>2: http://example.com/kad/neighbours\n",
    "<br/>1: http://www.w3.org/2000/01/rdf-schema#subPropertyOf\n",
    "<br/>1: http://www.w3.org/2000/01/rdf-schema#domain"
   ]
  },
  {
   "cell_type": "code",
   "execution_count": 53,
   "metadata": {},
   "outputs": [
    {
     "name": "stdout",
     "output_type": "stream",
     "text": [
      "10: http://www.w3.org/1999/02/22-rdf-syntax-ns#type\n",
      "7: http://example.com/kad/hasName\n",
      "5: http://example.com/kad/neighbours\n",
      "4: http://example.com/kad/hasCapital\n",
      "2: http://www.w3.org/2000/01/rdf-schema#subClassOf\n",
      "2: http://www.w3.org/2000/01/rdf-schema#range\n",
      "1: http://www.w3.org/2000/01/rdf-schema#domain\n",
      "1: http://www.w3.org/2000/01/rdf-schema#subPropertyOf\n"
     ]
    }
   ],
   "source": [
    "predicates = {}\n",
    "\n",
    "for s,p,o in g:\n",
    "    if p not in predicates:\n",
    "        predicates[p] = 1\n",
    "    else:\n",
    "        predicates[p] += 1\n",
    "\n",
    "sorted_predicates = dict(sorted(predicates.items(), key=lambda item: item[1], reverse=True))\n",
    "for item in sorted_predicates:\n",
    "    print(f\"{sorted_predicates[item]}: {item}\")\n",
    "pass\n"
   ]
  },
  {
   "cell_type": "markdown",
   "metadata": {},
   "source": [
    "# B. Tasks related to Graph visualisations "
   ]
  },
  {
   "cell_type": "markdown",
   "metadata": {},
   "source": [
    "### - Task 3a: (20 Points) From RDF to .dot \n"
   ]
  },
  {
   "cell_type": "markdown",
   "metadata": {},
   "source": [
    "In the lecture, we have seen two ways of writing a knowledge graph (simple n-triples, and simple turtle). Let us consider a 3rd syntax, this time a syntax that is useful for visualisation. One standard for visualising graphs is the .dot format.\n",
    "\n",
    "Print the knowledge graph in .dot file format. Check https://graphviz.gitlab.io/documentation/ and https://graphviz.readthedocs.io/en/stable/ for the documentation. You will only need very little of this information, and the most relevant information can be found in the examples that are given. \n",
    "\n",
    "<br>Basically, an RDF graph in .dot format starts with `digraph G {` and then a list of links of the following form:\n",
    "<br>`s -> o [label=\"p\"]`\n",
    "<br>for every triple in the graph (separated by `;`). Do not forget to end with a closing bracket. `}`\n",
    "\n",
    "An example is \n",
    "     \n",
    "     digraph G { s1 -> o1 [label=\"p1\"] ; s2 -> o2 [label=\"p2\"] } \n",
    "     \n",
    "for an RDF graph [(s1 p1 o1), (s2 p2 o2)]"
   ]
  },
  {
   "cell_type": "code",
   "execution_count": 54,
   "metadata": {},
   "outputs": [
    {
     "name": "stdout",
     "output_type": "stream",
     "text": [
      "Defaulting to user installation because normal site-packages is not writeable\n",
      "Requirement already satisfied: graphviz in /home/zayne/.local/lib/python3.10/site-packages (0.21)\n",
      "Note: you may need to restart the kernel to use updated packages.\n"
     ]
    }
   ],
   "source": [
    "# install and import the graphviz library\n",
    "%pip install graphviz\n",
    "import graphviz\n",
    "\n",
    "from IPython import display"
   ]
  },
  {
   "cell_type": "markdown",
   "metadata": {},
   "source": [
    "First, create an auxiliary function which strips the namespaces from URIs. This is necessary to make the node names readable when visualizing the .dot graph. Make sure that literals are enclosed by quotation marks. Hint: use `'\"...\"'` or `\"\\\"...\\\"\"` to insert quotation marks in Python strings."
   ]
  },
  {
   "cell_type": "code",
   "execution_count": 55,
   "metadata": {},
   "outputs": [],
   "source": [
    "def strip(e, isliteral):\n",
    "    # 'http://www.example.org/pizza' should become 'pizza'\n",
    "    e = e.split('/')[-1]\n",
    "    e = e.split('#')[-1]\n",
    "    if isliteral and e[0] != '\"':\n",
    "        e = '\"'+e+'\"'\n",
    "    return e"
   ]
  },
  {
   "cell_type": "markdown",
   "metadata": {},
   "source": [
    "Next, convert your graph to the .dot format."
   ]
  },
  {
   "cell_type": "code",
   "execution_count": 56,
   "metadata": {},
   "outputs": [],
   "source": [
    "dot = graphviz.Digraph(strict=True, graph_attr={\"dpi\":\"50\"})  # adjust dpi to scale graph\n",
    "for s,p,o in g:\n",
    "    strippedS = strip(s, type(s) is Literal)\n",
    "    strippedP = strip(p, type(p) is Literal)\n",
    "    strippedO = strip(o, type(o) is Literal)\n",
    "    dot.node(strippedS)\n",
    "    dot.node(strippedO)\n",
    "    dot.edge(strippedS, strippedO, label=strippedP)\n",
    "    pass"
   ]
  },
  {
   "cell_type": "markdown",
   "metadata": {},
   "source": [
    "View the end result as .dot syntax and as a graph:"
   ]
  },
  {
   "cell_type": "code",
   "execution_count": null,
   "metadata": {},
   "outputs": [
    {
     "name": "stdout",
     "output_type": "stream",
     "text": [
      "strict digraph {\n",
      "\tgraph [dpi=50]\n",
      "\tKralendijk\n",
      "\tCapital\n",
      "\tKralendijk -> Capital [label=type]\n",
      "\tOranjestad\n",
      "\tCapital\n",
      "\tOranjestad -> Capital [label=type]\n",
      "\tCapital\n",
      "\tCity\n",
      "\tCapital -> City [label=subClassOf]\n",
      "\tNetherlands\n",
      "\tAmsterdam\n",
      "\tNetherlands -> Amsterdam [label=hasCapital]\n",
      "\tBonaire\n",
      "\tCountry\n",
      "\tBonaire -> Country [label=type]\n",
      "\tKralendijk\n",
      "\t\"\\\"Kralendijk\\\"\"\n",
      "\tKralendijk -> \"\\\"Kralendijk\\\"\" [label=hasName]\n",
      "\tBonaire\n",
      "\t\"\\\"Bonaire\\\"\"\n",
      "\tBonaire -> \"\\\"Bonaire\\\"\" [label=hasName]\n",
      "\tNetherlands\n",
      "\t\"\\\"The Netherlands\\\"\"\n",
      "\tNetherlands -> \"\\\"The Netherlands\\\"\" [label=hasName]\n",
      "\tBelgium\n",
      "\tCountry\n",
      "\tBelgium -> Country [label=type]\n",
      "\tAmsterdam\n",
      "\tCapital\n",
      "\tAmsterdam -> Capital [label=type]\n",
      "\tAruba\n",
      "\tCountry\n",
      "\tAruba -> Country [label=type]\n",
      "\tCuracao\n",
      "\tCountry\n",
      "\tCuracao -> Country [label=type]\n",
      "\tCuracao\n",
      "\t\"\\\"Curaçao\\\"\"\n",
      "\tCuracao -> \"\\\"Curaçao\\\"\" [label=hasName]\n",
      "\tBonaire\n",
      "\tCuracao\n",
      "\tBonaire -> Curacao [label=neighbours]\n",
      "\tCuracao\n",
      "\tAruba\n",
      "\tCuracao -> Aruba [label=neighbours]\n",
      "\tWillemstad\n",
      "\tCapital\n",
      "\tWillemstad -> Capital [label=type]\n",
      "\tNetherlands\n",
      "\tBelgium\n",
      "\tNetherlands -> Belgium [label=neighbours]\n",
      "\tBonaire\n",
      "\tKralendijk\n",
      "\tBonaire -> Kralendijk [label=hasCapital]\n",
      "\tNetherlands\n",
      "\tCountry\n",
      "\tNetherlands -> Country [label=type]\n",
      "\tcontainsCity\n",
      "\tCity\n",
      "\tcontainsCity -> City [label=range]\n",
      "\tCuracao\n",
      "\tWillemstad\n",
      "\tCuracao -> Willemstad [label=hasCapital]\n",
      "\tAruba\n",
      "\tCuracao\n",
      "\tAruba -> Curacao [label=neighbours]\n",
      "\tcontainsCity\n",
      "\tCountry\n",
      "\tcontainsCity -> Country [label=domain]\n",
      "\tAruba\n",
      "\t\"\\\"Aruba\\\"\"\n",
      "\tAruba -> \"\\\"Aruba\\\"\" [label=hasName]\n",
      "\tAruba\n",
      "\tOranjestad\n",
      "\tAruba -> Oranjestad [label=hasCapital]\n",
      "\tGermany\n",
      "\tEuropeanCountry\n",
      "\tGermany -> EuropeanCountry [label=type]\n",
      "\thasCapital\n",
      "\tcontainsCity\n",
      "\thasCapital -> containsCity [label=subPropertyOf]\n",
      "\tWillemstad\n",
      "\t\"\\\"Willemstad\\\"\"\n",
      "\tWillemstad -> \"\\\"Willemstad\\\"\" [label=hasName]\n",
      "\tOranjestad\n",
      "\t\"\\\"Oranjestad\\\"\"\n",
      "\tOranjestad -> \"\\\"Oranjestad\\\"\" [label=hasName]\n",
      "\thasCapital\n",
      "\tCapital\n",
      "\thasCapital -> Capital [label=range]\n",
      "\tEuropeanCountry\n",
      "\tCountry\n",
      "\tEuropeanCountry -> Country [label=subClassOf]\n",
      "\tCuracao\n",
      "\tBonaire\n",
      "\tCuracao -> Bonaire [label=neighbours]\n",
      "}\n",
      "\n"
     ]
    }
   ],
   "source": [
    "print(dot.source)\n",
    "# display.display_svg(dot)  \n",
    "# paste the source at www.webgraphviz.com if this does not produce anything "
   ]
  },
  {
   "cell_type": "markdown",
   "metadata": {},
   "source": [
    "### - Task 3b: (10 Points) From RDF to .dot with \"semantic information\""
   ]
  },
  {
   "cell_type": "markdown",
   "metadata": {},
   "source": [
    "There is a conceptual distinction between properties, instances and classes (sets of instances). A simple way of checking is the following\n",
    "\n",
    "1. in a triple (s a o), with predicate a (which is a special abbreviation for the predicate rdf:type), the s is an Instance, and o is a Class. \n",
    "2. in a triple (s rdfs:subClassOf o) both s and o are Classes. \n",
    "3. in a triple (p rdfs:domain o) p is a Property and o is a Class. \n",
    "4. in a triple (p rdfs:range o)  p is a Property and o is a Class. \n",
    "\n",
    "Update the .dot representation for an RDF graph that:\n",
    "\n",
    "- renders all predicates that are defined in the RDF namespace as dotted lines,\n",
    "- renders all classes as rectangles,\n",
    "- renders all literals as plain text (no enclosure), and\n",
    "- renders all instances with the color blue. \n",
    "\n",
    "Check how your graph looks once finished. Hint: you can use the `color`, `shape` and `style` attributes in the node and edge function (see the documentation)."
   ]
  },
  {
   "cell_type": "code",
   "execution_count": 58,
   "metadata": {},
   "outputs": [
    {
     "name": "stdout",
     "output_type": "stream",
     "text": [
      "strict digraph {\n",
      "\tgraph [dpi=50]\n",
      "\tKralendijk [color=lightblue style=filled]\n",
      "\tCapital [shape=rectangle]\n",
      "\tKralendijk -> Capital [label=type style=dotted]\n",
      "\tOranjestad [color=lightblue style=filled]\n",
      "\tCapital [shape=rectangle]\n",
      "\tOranjestad -> Capital [label=type style=dotted]\n",
      "\tCapital [shape=rectangle]\n",
      "\tCity [shape=rectangle]\n",
      "\tCapital -> City [label=subClassOf style=dotted]\n",
      "\tNetherlands\n",
      "\tAmsterdam\n",
      "\tNetherlands -> Amsterdam [label=hasCapital]\n",
      "\tBonaire [color=lightblue style=filled]\n",
      "\tCountry [shape=rectangle]\n",
      "\tBonaire -> Country [label=type style=dotted]\n",
      "\tKralendijk\n",
      "\t\"\\\"Kralendijk\\\"\" [shape=plaintext]\n",
      "\tKralendijk -> \"\\\"Kralendijk\\\"\" [label=hasName]\n",
      "\tBonaire\n",
      "\t\"\\\"Bonaire\\\"\" [shape=plaintext]\n",
      "\tBonaire -> \"\\\"Bonaire\\\"\" [label=hasName]\n",
      "\tNetherlands\n",
      "\t\"\\\"The Netherlands\\\"\" [shape=plaintext]\n",
      "\tNetherlands -> \"\\\"The Netherlands\\\"\" [label=hasName]\n",
      "\tBelgium [color=lightblue style=filled]\n",
      "\tCountry [shape=rectangle]\n",
      "\tBelgium -> Country [label=type style=dotted]\n",
      "\tAmsterdam [color=lightblue style=filled]\n",
      "\tCapital [shape=rectangle]\n",
      "\tAmsterdam -> Capital [label=type style=dotted]\n",
      "\tAruba [color=lightblue style=filled]\n",
      "\tCountry [shape=rectangle]\n",
      "\tAruba -> Country [label=type style=dotted]\n",
      "\tCuracao [color=lightblue style=filled]\n",
      "\tCountry [shape=rectangle]\n",
      "\tCuracao -> Country [label=type style=dotted]\n",
      "\tCuracao\n",
      "\t\"\\\"Curaçao\\\"\" [shape=plaintext]\n",
      "\tCuracao -> \"\\\"Curaçao\\\"\" [label=hasName]\n",
      "\tBonaire\n",
      "\tCuracao\n",
      "\tBonaire -> Curacao [label=neighbours]\n",
      "\tCuracao\n",
      "\tAruba\n",
      "\tCuracao -> Aruba [label=neighbours]\n",
      "\tWillemstad [color=lightblue style=filled]\n",
      "\tCapital [shape=rectangle]\n",
      "\tWillemstad -> Capital [label=type style=dotted]\n",
      "\tNetherlands\n",
      "\tBelgium\n",
      "\tNetherlands -> Belgium [label=neighbours]\n",
      "\tBonaire\n",
      "\tKralendijk\n",
      "\tBonaire -> Kralendijk [label=hasCapital]\n",
      "\tNetherlands [color=lightblue style=filled]\n",
      "\tCountry [shape=rectangle]\n",
      "\tNetherlands -> Country [label=type style=dotted]\n",
      "\tCity [shape=rectangle]\n",
      "\tcontainsCity -> City [label=range style=dotted]\n",
      "\tCuracao\n",
      "\tWillemstad\n",
      "\tCuracao -> Willemstad [label=hasCapital]\n",
      "\tAruba\n",
      "\tCuracao\n",
      "\tAruba -> Curacao [label=neighbours]\n",
      "\tCountry [shape=rectangle]\n",
      "\tcontainsCity -> Country [label=domain style=dotted]\n",
      "\tAruba\n",
      "\t\"\\\"Aruba\\\"\" [shape=plaintext]\n",
      "\tAruba -> \"\\\"Aruba\\\"\" [label=hasName]\n",
      "\tAruba\n",
      "\tOranjestad\n",
      "\tAruba -> Oranjestad [label=hasCapital]\n",
      "\tGermany [color=lightblue style=filled]\n",
      "\tEuropeanCountry [shape=rectangle]\n",
      "\tGermany -> EuropeanCountry [label=type style=dotted]\n",
      "\thasCapital\n",
      "\tcontainsCity\n",
      "\thasCapital -> containsCity [label=subPropertyOf]\n",
      "\tWillemstad\n",
      "\t\"\\\"Willemstad\\\"\" [shape=plaintext]\n",
      "\tWillemstad -> \"\\\"Willemstad\\\"\" [label=hasName]\n",
      "\tOranjestad\n",
      "\t\"\\\"Oranjestad\\\"\" [shape=plaintext]\n",
      "\tOranjestad -> \"\\\"Oranjestad\\\"\" [label=hasName]\n",
      "\tCapital [shape=rectangle]\n",
      "\thasCapital -> Capital [label=range style=dotted]\n",
      "\tEuropeanCountry [shape=rectangle]\n",
      "\tCountry [shape=rectangle]\n",
      "\tEuropeanCountry -> Country [label=subClassOf style=dotted]\n",
      "\tCuracao\n",
      "\tBonaire\n",
      "\tCuracao -> Bonaire [label=neighbours]\n",
      "}\n",
      "\n"
     ]
    }
   ],
   "source": [
    "dot = graphviz.Digraph(strict=True, graph_attr={\"dpi\":\"50\"})  # adjust dpi to scale graph\n",
    "for s,p,o in g:\n",
    "    strippedS = strip(s, isinstance(s, Literal))\n",
    "    strippedP = strip(p, isinstance(p, Literal))\n",
    "    strippedO = strip(o, isinstance(o, Literal))\n",
    "\n",
    "    if p == RDF.type:\n",
    "        dot.node(strippedS, color = \"lightblue\", style = \"filled\")\n",
    "        if isinstance(o, Literal): \n",
    "            dot.node(strippedO, shape=\"plaintext\")\n",
    "        else:\n",
    "            dot.node(strippedO, shape= \"rectangle\")\n",
    "        dot.edge(strippedS, strippedO, label=strippedP, style=\"dotted\")\n",
    "\n",
    "    elif strippedP == \"subClassOf\":\n",
    "        dot.node(strippedS, shape = \"rectangle\")\n",
    "        if isinstance(o, Literal):  \n",
    "            dot.node(strippedO, shape=\"plaintext\")\n",
    "        else:\n",
    "            dot.node(strippedO, shape = \"rectangle\")\n",
    "        dot.edge(strippedS, strippedO, label=strippedP, style=\"dotted\")\n",
    "\n",
    "    elif strippedP == \"domain\" or strippedP == \"range\":\n",
    "        if isinstance(o, Literal):  \n",
    "            dot.node(strippedO, shape=\"plaintext\")\n",
    "        else:\n",
    "            dot.node(strippedO, shape = \"rectangle\")\n",
    "        dot.edge(strippedS, strippedO, label=strippedP, style=\"dotted\")\n",
    "    else:\n",
    "        dot.node(strippedS)\n",
    "        if isinstance(o, Literal):  \n",
    "            dot.node(strippedO, shape=\"plaintext\")\n",
    "        else:\n",
    "            dot.node(strippedO)\n",
    "        dot.edge(strippedS, strippedO, label=strippedP)\n",
    "print(dot.source)\n"
   ]
  },
  {
   "cell_type": "markdown",
   "metadata": {},
   "source": [
    "### - Task 4: (10 Points) Deriving implicit knowledge (a bit of schema)\n",
    "\n",
    "We will look into Schema information in the latter modules, but let us try already to find some implicit information in a first bit of inferencing: whenever there are two statements (s rdf:type o) and (o rdfs:subClassOf o2) we can derive (and later prove) that (s rdf:type o2). \n",
    "\n",
    "Write a procedure that adds all implied triples to our knowledge graph, and which prints each implied triple."
   ]
  },
  {
   "cell_type": "code",
   "execution_count": 59,
   "metadata": {},
   "outputs": [
    {
     "name": "stdout",
     "output_type": "stream",
     "text": [
      "strict digraph {\n",
      "\tgraph [dpi=50]\n",
      "\tKralendijk [color=lightblue style=filled]\n",
      "\tCapital [shape=rectangle]\n",
      "\tKralendijk -> Capital [label=type style=dotted]\n",
      "\tOranjestad [color=lightblue style=filled]\n",
      "\tCapital [shape=rectangle]\n",
      "\tOranjestad -> Capital [label=type style=dotted]\n",
      "\tCapital [shape=rectangle]\n",
      "\tCity [shape=rectangle]\n",
      "\tCapital -> City [label=subClassOf style=dotted]\n",
      "\tNetherlands\n",
      "\tAmsterdam\n",
      "\tNetherlands -> Amsterdam [label=hasCapital]\n",
      "\tBonaire [color=lightblue style=filled]\n",
      "\tCountry [shape=rectangle]\n",
      "\tBonaire -> Country [label=type style=dotted]\n",
      "\tKralendijk\n",
      "\t\"\\\"Kralendijk\\\"\" [shape=plaintext]\n",
      "\tKralendijk -> \"\\\"Kralendijk\\\"\" [label=hasName]\n",
      "\tBonaire\n",
      "\t\"\\\"Bonaire\\\"\" [shape=plaintext]\n",
      "\tBonaire -> \"\\\"Bonaire\\\"\" [label=hasName]\n",
      "\tNetherlands\n",
      "\t\"\\\"The Netherlands\\\"\" [shape=plaintext]\n",
      "\tNetherlands -> \"\\\"The Netherlands\\\"\" [label=hasName]\n",
      "\tBelgium [color=lightblue style=filled]\n",
      "\tCountry [shape=rectangle]\n",
      "\tBelgium -> Country [label=type style=dotted]\n",
      "\tAmsterdam [color=lightblue style=filled]\n",
      "\tCapital [shape=rectangle]\n",
      "\tAmsterdam -> Capital [label=type style=dotted]\n",
      "\tAruba [color=lightblue style=filled]\n",
      "\tCountry [shape=rectangle]\n",
      "\tAruba -> Country [label=type style=dotted]\n",
      "\tCuracao [color=lightblue style=filled]\n",
      "\tCountry [shape=rectangle]\n",
      "\tCuracao -> Country [label=type style=dotted]\n",
      "\tCuracao\n",
      "\t\"\\\"Curaçao\\\"\" [shape=plaintext]\n",
      "\tCuracao -> \"\\\"Curaçao\\\"\" [label=hasName]\n",
      "\tBonaire\n",
      "\tCuracao\n",
      "\tBonaire -> Curacao [label=neighbours]\n",
      "\tCuracao\n",
      "\tAruba\n",
      "\tCuracao -> Aruba [label=neighbours]\n",
      "\tWillemstad [color=lightblue style=filled]\n",
      "\tCapital [shape=rectangle]\n",
      "\tWillemstad -> Capital [label=type style=dotted]\n",
      "\tNetherlands\n",
      "\tBelgium\n",
      "\tNetherlands -> Belgium [label=neighbours]\n",
      "\tBonaire\n",
      "\tKralendijk\n",
      "\tBonaire -> Kralendijk [label=hasCapital]\n",
      "\tNetherlands [color=lightblue style=filled]\n",
      "\tCountry [shape=rectangle]\n",
      "\tNetherlands -> Country [label=type style=dotted]\n",
      "\tCity [shape=rectangle]\n",
      "\tcontainsCity -> City [label=range style=dotted]\n",
      "\tCuracao\n",
      "\tWillemstad\n",
      "\tCuracao -> Willemstad [label=hasCapital]\n",
      "\tAruba\n",
      "\tCuracao\n",
      "\tAruba -> Curacao [label=neighbours]\n",
      "\tCountry [shape=rectangle]\n",
      "\tcontainsCity -> Country [label=domain style=dotted]\n",
      "\tAruba\n",
      "\t\"\\\"Aruba\\\"\" [shape=plaintext]\n",
      "\tAruba -> \"\\\"Aruba\\\"\" [label=hasName]\n",
      "\tAruba\n",
      "\tOranjestad\n",
      "\tAruba -> Oranjestad [label=hasCapital]\n",
      "\tGermany [color=lightblue style=filled]\n",
      "\tEuropeanCountry [shape=rectangle]\n",
      "\tGermany -> EuropeanCountry [label=type style=dotted]\n",
      "\thasCapital\n",
      "\tcontainsCity\n",
      "\thasCapital -> containsCity [label=subPropertyOf]\n",
      "\tWillemstad\n",
      "\t\"\\\"Willemstad\\\"\" [shape=plaintext]\n",
      "\tWillemstad -> \"\\\"Willemstad\\\"\" [label=hasName]\n",
      "\tOranjestad\n",
      "\t\"\\\"Oranjestad\\\"\" [shape=plaintext]\n",
      "\tOranjestad -> \"\\\"Oranjestad\\\"\" [label=hasName]\n",
      "\tCapital [shape=rectangle]\n",
      "\thasCapital -> Capital [label=range style=dotted]\n",
      "\tEuropeanCountry [shape=rectangle]\n",
      "\tCountry [shape=rectangle]\n",
      "\tEuropeanCountry -> Country [label=subClassOf style=dotted]\n",
      "\tCuracao\n",
      "\tBonaire\n",
      "\tCuracao -> Bonaire [label=neighbours]\n",
      "\tKralendijk -> City [label=type style=dotted]\n",
      "\tOranjestad -> City [label=type style=dotted]\n",
      "\tAmsterdam -> City [label=type style=dotted]\n",
      "\tWillemstad -> City [label=type style=dotted]\n",
      "\tGermany -> Country [label=type style=dotted]\n",
      "}\n",
      "\n"
     ]
    }
   ],
   "source": [
    "for s,p,o in g:\n",
    "    strippedS = strip(s, type(s) is Literal)\n",
    "    strippedP = strip(p, type(p) is Literal)\n",
    "    strippedO = strip(o, type(o) is Literal)\n",
    "    if p == RDF.type:\n",
    "        for s2,p2,o2 in g:\n",
    "            strippedS2 = strip(s2, type(s2) is Literal)\n",
    "            strippedP2 = strip(p2, type(p2) is Literal)\n",
    "            strippedO2 = strip(o2, type(o2) is Literal)\n",
    "            if strippedO == strippedS2 and strippedP2 == \"subClassOf\":\n",
    "                dot.edge(strippedS, strippedO2, label=strippedP, style=\"dotted\")\n",
    "\n",
    "print(dot.source)\n"
   ]
  },
  {
   "cell_type": "markdown",
   "metadata": {},
   "source": [
    "# C. Tasks related to local copies of external RDF Datasets using SPARQL"
   ]
  },
  {
   "cell_type": "markdown",
   "metadata": {},
   "source": [
    "Until now, we have manipulated local knowledge graphs, but as we claimed in the lectures, the advantage of knowledge graphs is that they can easily be linked with other datasets on the Web. \n",
    "\n",
    "In the remaining 3 tasks, we will manipulate data from the Web, and ask complex queries over this web data. \n",
    "\n",
    "In the first task, we will access web data, make a local copy of it, and then query it. In the other two tasks, we will query live data directly from web Knowledge Graphs (in this case, the SPARQL endpoint of DBPedia). "
   ]
  },
  {
   "cell_type": "markdown",
   "metadata": {},
   "source": [
    "### - Task 5: (10 Points) Show and manipulate data about RDF resources on the Web "
   ]
  },
  {
   "cell_type": "markdown",
   "metadata": {},
   "source": [
    "With rdflib we can easily load a local graph, but we can just as well retrieve a graph from the Web. Here, we will do so using the *requests* library, which allows us to fire a request to any server and/or SPARQL endpoint and to capture the response. The following snippet does so for the resource Netherlands from Dbpedia, by using the 'DESCRIBE' keyword to give us all triples about The Netherlands, and then loads it in a RDFlib Graph object. Note that, in the next assignment, we will learn a more high-level approach that hides most of the raw request details.\n",
    "\n",
    "Should, for some external reason, the code below fail to retrieve the graph from DBpedia, then you can manually load the turtle file `dbpedia_AmsterdamBelgium.ttl` which is located in this directory and which contains the same triples. Only do this as a last resort!"
   ]
  },
  {
   "cell_type": "code",
   "execution_count": 60,
   "metadata": {},
   "outputs": [
    {
     "name": "stdout",
     "output_type": "stream",
     "text": [
      "Defaulting to user installation because normal site-packages is not writeable\n",
      "Requirement already satisfied: requests in /home/zayne/.local/lib/python3.10/site-packages (2.32.5)\n",
      "Requirement already satisfied: charset_normalizer<4,>=2 in /home/zayne/.local/lib/python3.10/site-packages (from requests) (3.4.3)\n",
      "Requirement already satisfied: idna<4,>=2.5 in /home/zayne/.local/lib/python3.10/site-packages (from requests) (3.10)\n",
      "Requirement already satisfied: urllib3<3,>=1.21.1 in /home/zayne/.local/lib/python3.10/site-packages (from requests) (2.5.0)\n",
      "Requirement already satisfied: certifi>=2017.4.17 in /home/zayne/.local/lib/python3.10/site-packages (from requests) (2025.8.3)\n",
      "Note: you may need to restart the kernel to use updated packages.\n"
     ]
    }
   ],
   "source": [
    "# install the library\n",
    "%pip install requests"
   ]
  },
  {
   "cell_type": "code",
   "execution_count": 61,
   "metadata": {},
   "outputs": [
    {
     "data": {
      "text/plain": [
       "<Graph identifier=Nd6ede0a378de460b98215bcbe010dc45 (<class 'rdflib.graph.Graph'>)>"
      ]
     },
     "execution_count": 61,
     "metadata": {},
     "output_type": "execute_result"
    }
   ],
   "source": [
    "import requests\n",
    "\n",
    "endpoint = \"https://dbpedia.org/sparql\"\n",
    "query = 'DESCRIBE <http://dbpedia.org/resource/Netherlands>'\n",
    "\n",
    "payload = {'query':query, 'format':'text/turtle'}\n",
    "response = requests.post(endpoint, data = payload)\n",
    "\n",
    "g = Graph()\n",
    "g.parse(data=response.text, format='ttl')"
   ]
  },
  {
   "cell_type": "markdown",
   "metadata": {},
   "source": [
    "Now do the same for Belgium"
   ]
  },
  {
   "cell_type": "code",
   "execution_count": 62,
   "metadata": {},
   "outputs": [
    {
     "data": {
      "text/plain": [
       "<Graph identifier=Nd6ede0a378de460b98215bcbe010dc45 (<class 'rdflib.graph.Graph'>)>"
      ]
     },
     "execution_count": 62,
     "metadata": {},
     "output_type": "execute_result"
    }
   ],
   "source": [
    "query = 'DESCRIBE <http://dbpedia.org/resource/Belgium>'\n",
    "\n",
    "payload = {'query':query, 'format':'text/turtle'}\n",
    "response = requests.post(endpoint, data = payload)\n",
    "\n",
    "g.parse(data=response.text, format='ttl')  # calling parse again merges the graphs"
   ]
  },
  {
   "cell_type": "markdown",
   "metadata": {},
   "source": [
    "Let us start by showing diverse bits of information w.r.t  The Netherlands and Belgium in DBPedia. It is very similar to task 1, but now with Web Data. \n",
    "\n",
    "First, query the graph g (now containing the DBPedia information about both countries) and check which motor ways cross both countries."
   ]
  },
  {
   "cell_type": "code",
   "execution_count": 63,
   "metadata": {},
   "outputs": [],
   "source": [
    "qres = g.query(\n",
    "   \"\"\"\n",
    "    PREFIX dbr: <http://dbpedia.org/resource/>\n",
    "    PREFIX dbo: <http://dbpedia.org/ontology/>\n",
    "    SELECT ?s\n",
    "        WHERE {\n",
    "            ?s a dbo:Road ;\n",
    "               dbo:county dbr:Netherlands ;\n",
    "               dbo:county dbr:Belgium .\n",
    "        }\n",
    "        LIMIT 10\n",
    "       \"\"\")\n",
    "for row in qres:\n",
    "    print(\"%s\" % row)"
   ]
  },
  {
   "cell_type": "markdown",
   "metadata": {},
   "source": [
    "Write a query to check whether you can find someone who was born in The Netherlands and died in Belgium? You need to look at the data to know which property you should check for. \n",
    "\n",
    "To get an intuition of what is in the knowledge graph you might want to look at the human readable rendering on : http://dbpedia.org/resource/Netherlands"
   ]
  },
  {
   "cell_type": "code",
   "execution_count": 64,
   "metadata": {
    "scrolled": true
   },
   "outputs": [],
   "source": [
    "# Your code here\n",
    "qres = g.query(\n",
    "   \"\"\"\n",
    "    PREFIX dbr: <http://dbpedia.org/resource/>\n",
    "    PREFIX dbo: <http://dbpedia.org/ontology/>\n",
    "    SELECT ?s\n",
    "        WHERE {\n",
    "            ?s a dbo:Person ;\n",
    "            dbo:birthPlace dbr:Netherlands ;\n",
    "            dbo:deathPlace dbr:Belgium .\n",
    "        }\n",
    "\n",
    "        \n",
    "        LIMIT 10\n",
    "       \"\"\")\n",
    "for row in qres:\n",
    "    print(\"%s\" % row)"
   ]
  },
  {
   "cell_type": "markdown",
   "metadata": {},
   "source": [
    "### - Task 6: (20 Points) Ask SPARQL against live data using Yasgui\n",
    "\n",
    "Yasgui (https://yasgui.triply.cc) is a nice graphical interface for asking queries.\n",
    "\n",
    "Run a new query against http://dbpedia.org/sparql that does the following:\n",
    "\n",
    "- Find all languages spoken in countries that are not official languages of that country.\n",
    "- The query should return two colums: the country, and the number of languages.\n",
    "- Order the countries by the number of unofficial languages, from high to low.\n",
    "\n",
    "Note that\n",
    "- Countries are assumed to be of type `dbo:Country`\n",
    "- Languages are assumed to be of type `dbo:Language` (and can be linked by many different predicates)\n",
    "- Official languages are linked using predicate `dbo:officialLanguage`\n",
    "- Not all countries have an official language (in which case we return all linked languages)\n",
    "\n",
    "Hint: there is more than one possible solution. See https://www.w3.org/TR/sparql11-query/ for documentation on SPARQL."
   ]
  },
  {
   "cell_type": "code",
   "execution_count": 65,
   "metadata": {},
   "outputs": [
    {
     "data": {
      "text/plain": [
       "'\\nPREFIX dbo: <http://dbpedia.org/ontology/>\\nPREFIX rdf: <http://www.w3.org/1999/02/22-rdf-syntax-ns#>\\nPREFIX rdfs: <http://www.w3.org/2000/01/rdf-schema#>\\nselect ?country (count(?Languages) AS ?nonOfficialLanguages) WHERE {\\n  ?country a dbo:Country .\\n  ?country dbo:language ?Languages .\\n  optional {?country dbo:officialLanguage ?officialLanguage} .\\n  filter (!bound(?officialLanguage) || ?Languages != ?officialLanguage)} \\ngroup by ?country\\norder by desc(?nonOfficialLanguages)\\n'"
      ]
     },
     "execution_count": 65,
     "metadata": {},
     "output_type": "execute_result"
    }
   ],
   "source": [
    "'''\n",
    "PREFIX dbo: <http://dbpedia.org/ontology/>\n",
    "PREFIX rdf: <http://www.w3.org/1999/02/22-rdf-syntax-ns#>\n",
    "PREFIX rdfs: <http://www.w3.org/2000/01/rdf-schema#>\n",
    "select ?country (count(?Languages) AS ?nonOfficialLanguages) WHERE {\n",
    "  ?country a dbo:Country .\n",
    "  ?country dbo:language ?Languages .\n",
    "  optional {?country dbo:officialLanguage ?officialLanguage} .\n",
    "  filter (!bound(?officialLanguage) || ?Languages != ?officialLanguage)} \n",
    "group by ?country\n",
    "order by desc(?nonOfficialLanguages)\n",
    "'''"
   ]
  }
 ],
 "metadata": {
  "kernelspec": {
   "display_name": "Python 3",
   "language": "python",
   "name": "python3"
  },
  "language_info": {
   "codemirror_mode": {
    "name": "ipython",
    "version": 3
   },
   "file_extension": ".py",
   "mimetype": "text/x-python",
   "name": "python",
   "nbconvert_exporter": "python",
   "pygments_lexer": "ipython3",
   "version": "3.10.12"
  }
 },
 "nbformat": 4,
 "nbformat_minor": 4
}
