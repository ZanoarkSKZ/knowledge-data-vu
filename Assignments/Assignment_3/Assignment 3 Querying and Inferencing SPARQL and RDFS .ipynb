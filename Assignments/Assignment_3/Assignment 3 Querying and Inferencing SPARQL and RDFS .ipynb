{
 "cells": [
  {
   "cell_type": "markdown",
   "metadata": {},
   "source": [
    "# Knowledge and Data: Practical Assignment 3 \n",
    "## RDF Data, RDFS knowledge and inferencing "
   ]
  },
  {
   "cell_type": "markdown",
   "metadata": {},
   "source": [
    "YOUR NAME: Zayne Melendez\n",
    "\n",
    "YOUR ex.VUNetID: zme209\n",
    "\n",
    "*(If you do not provide your name and ex.VUNetID we will not accept your submission).* "
   ]
  },
  {
   "cell_type": "markdown",
   "metadata": {},
   "source": [
    "### Learning objectives\n",
    "\n",
    "At the end of this exercise you should be able to:\n",
    "\n",
    "1. Access local an external data via SPARQL both from within a python programming environment and stand-alone with a GUI, such as [YASGUI](https://yasgui.triply.cc/), and this way integrate data from different sources  \n",
    "2. Model your own first knowledge base, in this case an RDF Schema knowledge graph\n",
    "3. Implement inference rules "
   ]
  },
  {
   "cell_type": "markdown",
   "metadata": {},
   "source": [
    "Follow this Notebook step-by-step. \n",
    "\n",
    "Of ex.Course, you can do the exercises in any Programming Editor of your liking. \n",
    "But you do not have to. Feel free to simply write code in the Notebook. When \n",
    "everythink is filled in and works, safe the Notebook and submit it \n",
    "as a Jupyter Notebook, i.e. with an ipynb extension. Please use as name of the \n",
    "Notebook your ex.StudentID+Assignment3.ipynb.  \n",
    "\n",
    "\n",
    "We will not evaluate the programming style of your solutions. Yet we do look whether your solutions suggests an understanding, and whether they yield the correct output.\n",
    "\n",
    "Note that all notebooks will automatically be checked for plagiarism: while similar answers can be expected, it is not allowed to directly copy the solutions from fellow ex.Students or TAs, or from the examples discussed during the lectures. Similarly, sharing your solutions with your peers is not allowed.\n",
    "\n",
    "**IMPORTANT: Submit this notebook after finishing the assignment. It is not necessary to submit the created turtle files**"
   ]
  },
  {
   "cell_type": "markdown",
   "metadata": {},
   "source": [
    "Before you start, you need to:\n",
    "\n",
    "- **Install the *rdflib* Python package:** *pip install rdflib* (should already be installed from the previous assignment)\n",
    "- **Install the *SPARQLWrapper* Python package:** *pip install SPARQLWrapper*\n",
    "- **Install the free edition of the GraphDB Triplestore:** please follow this short [GraphDB tutorial](https://github.com/ucds-ex.VU/knowledge-data-ex.VU/blob/master/Tutorials/Preliminaries/tutorial-GraphDB.md). \n",
    "\n",
    "Then, add the file example-from-slides.ttl to a newly created database, say called assignment-3. \n",
    "\n",
    "**Note that you should have an active internet connection to run the code in this notebook. If, for some external reason (ie internet and/or system issues), you cannot access the SPARQL endpoint, then report this to a TA as soon as possible!**"
   ]
  },
  {
   "cell_type": "code",
   "execution_count": 90,
   "metadata": {},
   "outputs": [
    {
     "name": "stdout",
     "output_type": "stream",
     "text": [
      "Requirement already satisfied: SPARQLWrapper in c:\\users\\admin\\appdata\\local\\packages\\pythonsoftwarefoundation.python.3.11_qbz5n2kfra8p0\\localcache\\local-packages\\python311\\site-packages (2.0.0)\n",
      "Requirement already satisfied: rdflib>=6.1.1 in c:\\users\\admin\\appdata\\local\\packages\\pythonsoftwarefoundation.python.3.11_qbz5n2kfra8p0\\localcache\\local-packages\\python311\\site-packages (from SPARQLWrapper) (7.2.1)\n",
      "Requirement already satisfied: pyparsing<4,>=2.1.0 in c:\\users\\admin\\appdata\\local\\packages\\pythonsoftwarefoundation.python.3.11_qbz5n2kfra8p0\\localcache\\local-packages\\python311\\site-packages (from rdflib>=6.1.1->SPARQLWrapper) (3.2.5)\n",
      "Note: you may need to restart the kernel to use updated packages.\n"
     ]
    },
    {
     "name": "stderr",
     "output_type": "stream",
     "text": [
      "\n",
      "[notice] A new release of pip is available: 24.0 -> 25.2\n",
      "[notice] To update, run: C:\\Users\\Admin\\AppData\\Local\\Microsoft\\WindowsApps\\PythonSoftwareFoundation.Python.3.11_qbz5n2kfra8p0\\python.exe -m pip install --upgrade pip\n"
     ]
    }
   ],
   "source": [
    "# install library\n",
    "%pip install SPARQLWrapper"
   ]
  },
  {
   "cell_type": "markdown",
   "metadata": {},
   "source": [
    "## Task 1: (35 points) Integrate Local and External Data"
   ]
  },
  {
   "cell_type": "markdown",
   "metadata": {},
   "source": [
    "You can integrate SPARQL queries into your Python code by using the *RDFLib* and *SPARQLWrapper* libraries. \n",
    "\n",
    "The following code accesses the DBPedia knowledge graph using its SPARQL endpoint, and returns the result of the SPARQL query requesting all the labels asserted to Amsterdam (test it!)  "
   ]
  },
  {
   "cell_type": "code",
   "execution_count": 91,
   "metadata": {},
   "outputs": [
    {
     "name": "stdout",
     "output_type": "stream",
     "text": [
      "Amsterdam\n",
      "أمستردام\n",
      "Amsterdam\n",
      "Amsterdam\n",
      "Amsterdam\n",
      "Άμστερνταμ\n",
      "Amsterdamo\n",
      "Ámsterdam\n",
      "Amsterdam\n",
      "Amstardam\n",
      "Amsterdam\n",
      "Amsterdam\n",
      "Amsterdam\n",
      "암스테르담\n",
      "アムステルダム\n",
      "Amsterdam\n",
      "Amsterdam\n",
      "Амстердам\n",
      "Amesterdão\n",
      "Amsterdam\n",
      "Амстердам\n",
      "阿姆斯特丹\n"
     ]
    }
   ],
   "source": [
    "# This code only works if you are online.\n",
    "# If, for some reason, you cannot get this to work, then please contact a TA\n",
    "\n",
    "from rdflib import Graph, RDF, RDFS, Namespace, Literal, URIRef\n",
    "from SPARQLWrapper import SPARQLWrapper, JSON\n",
    "\n",
    "sparql = SPARQLWrapper(\"http://dbpedia.org/sparql\")\n",
    "sparql.setQuery(\"\"\"\n",
    "    PREFIX rdfs: <http://www.w3.org/2000/01/rdf-schema#>\n",
    "    SELECT ?cityName\n",
    "    WHERE { \n",
    "        <http://dbpedia.org/resource/Amsterdam> rdfs:label ?cityName \n",
    "    }\n",
    "\"\"\")\n",
    "sparql.setReturnFormat(JSON)\n",
    "results = sparql.query().convert()\n",
    "for result in results[\"results\"][\"bindings\"]:\n",
    "    print(result[\"cityName\"][\"value\"])  "
   ]
  },
  {
   "cell_type": "markdown",
   "metadata": {},
   "source": [
    "For your convenience, we already wrote the following functions that might be useful to complete this task. \n",
    "In addition, we have loaded and printed the 'example-from-slides.ttl' dataset."
   ]
  },
  {
   "cell_type": "code",
   "execution_count": 92,
   "metadata": {},
   "outputs": [
    {
     "name": "stdout",
     "output_type": "stream",
     "text": [
      "@prefix ex: <http://example.com/kad/> .\n",
      "@prefix rdfs: <http://www.w3.org/2000/01/rdf-schema#> .\n",
      "\n",
      "ex:Netherlands a ex:Country ;\n",
      "    ex:contains ex:Ijsselmeer ;\n",
      "    ex:containsCity ex:Rotterdam ;\n",
      "    ex:hasCapital ex:Amsterdam ;\n",
      "    ex:hasName \"The Netherlands\" ;\n",
      "    ex:neighbours ex:Belgium .\n",
      "\n",
      "ex:hasCapital rdfs:range ex:Capital ;\n",
      "    rdfs:subPropertyOf ex:containsCity .\n",
      "\n",
      "ex:neighbours rdfs:subPropertyOf ex:closeBy .\n",
      "\n",
      "ex:Amsterdam a ex:Capital ;\n",
      "    ex:closeBy ex:Germany .\n",
      "\n",
      "ex:Belgium a ex:Country .\n",
      "\n",
      "ex:EuropeanCountry rdfs:subClassOf ex:Country .\n",
      "\n",
      "ex:Germany a ex:EuropeanCountry ;\n",
      "    ex:hasCapital ex:Berlin .\n",
      "\n",
      "ex:closeBy rdfs:domain ex:Location ;\n",
      "    rdfs:range ex:Location .\n",
      "\n",
      "ex:containsCity rdfs:domain ex:Country ;\n",
      "    rdfs:range ex:City ;\n",
      "    rdfs:subPropertyOf ex:contains .\n",
      "\n",
      "ex:Capital rdfs:subClassOf ex:City .\n",
      "\n",
      "ex:City rdfs:subClassOf ex:Location .\n",
      "\n",
      "ex:Country rdfs:subClassOf ex:Location .\n",
      "\n",
      "\n"
     ]
    }
   ],
   "source": [
    "from rdflib import Graph, RDF, Namespace, Literal, URIRef\n",
    "from SPARQLWrapper import SPARQLWrapper, JSON\n",
    "\n",
    "\n",
    "# Loads the data from a certain file given as input in Turtle syntax into the Graph g  \n",
    "# -------------------------\n",
    "def load_graph(graph, filename):\n",
    "    with open(filename, 'r') as f:\n",
    "        graph.parse(f, format='turtle')\n",
    "        \n",
    "\n",
    "# Prints a certain graph given as input in Turtle syntax\n",
    "# if your output shows byte string (ie, b'...') you must add '.decode()' to the print statements:\n",
    "#    print(myGraph.serialize(format='turtle').decode())\n",
    "# -------------------------\n",
    "def serialize_graph(myGraph):\n",
    "     print(myGraph.serialize(format='turtle'))\n",
    "        \n",
    "\n",
    "# Saves the Graph g in Turtle syntax to a certain file given as input\n",
    "# -------------------------\n",
    "def save_graph(myGraph, filename):\n",
    "    with open(filename, 'w') as f:\n",
    "        myGraph.serialize(filename, format='turtle')\n",
    "        \n",
    "    \n",
    "# Changes the namespace of a certain URI given as input to a DBpedia URI \n",
    "# Example: transformToDBR(\"http://example.com/kad2020/Amsterdam\") returns \"http://dbpedia.org/resource/Amsterdam\"\n",
    "# -------------------------\n",
    "def transformToDBR(uri):\n",
    "    if isinstance(uri, Literal):\n",
    "        # changes the literal to uppercase so that the object with the same name refers to an object and not the string\n",
    "        return uri.upper()\n",
    "    components = g.namespace_manager.compute_qname(uri)\n",
    "    return \"http://dbpedia.org/resource/%s\"%(components[2])\n",
    "\n",
    "# -------------------------\n",
    "\n",
    "g = Graph()\n",
    "load_graph(g, 'example-from-slides.ttl')\n",
    "serialize_graph(g)\n",
    "\n",
    "\n",
    "# Don't forget to run this cell before continuing the task.\n"
   ]
  },
  {
   "cell_type": "markdown",
   "metadata": {},
   "source": [
    "### A: Write a SPARQL query that finds all the cities in the dataset\n",
    "\n",
    "As you cannot directly use class City, you will have to find those cities in the dataset (example-from-slides.ttl) using implicit information that can be deduced from the domain and ranges of the relations (e.g. things in a hasCapital relation are capitals and a capital is a city, etc.).\n",
    "\n",
    "Save all the cities returned from the SPARQL query into the empty set \"cities\". "
   ]
  },
  {
   "cell_type": "code",
   "execution_count": 93,
   "metadata": {},
   "outputs": [
    {
     "name": "stdout",
     "output_type": "stream",
     "text": [
      "http://example.com/kad/Amsterdam\n",
      "http://example.com/kad/Berlin\n",
      "http://example.com/kad/Rotterdam\n"
     ]
    }
   ],
   "source": [
    "cities = set()\n",
    "\n",
    "# Your code here\n",
    "ex = namespace = Namespace(\"http://example.com/kad/\")\n",
    "qres = g.query(\n",
    "    \"\"\"\n",
    "    prefix ex: <http://example.com/kad/>\n",
    "    prefix rdfs: <http://www.w3.org/2000/01/rdf-schema#>\n",
    "    select distinct ?city \n",
    "    where {\n",
    "        {?country ex:hasCapital ?city}\n",
    "        union\n",
    "        {?country ex:containsCity ?city}\n",
    "        union\n",
    "        {?city rdfs:type ex:City} }\n",
    "    \"\"\")\n",
    "for i in qres:\n",
    "    cities.add(i[0])\n",
    "    \n",
    "for city in cities:\n",
    "    print(city) \n",
    "    "
   ]
  },
  {
   "cell_type": "markdown",
   "metadata": {},
   "source": [
    "### B: For each city, find from DBpedia its longitude & latitude, and its number of inhabitants (if available)\n",
    "\n",
    "Don't forget to adapt the namespace of the cities in your dataset when querying DBpedia, using the above function *transformToDBR(uri)*. Also note that namespaces should never use the *https* protocol.\n",
    "\n",
    "The empty graph h should only contain the triples extracted from DBpedia, but added to the URIs with the 'ex' namespace. \n",
    "An example of a triple in h is the following triple: \n",
    "       \n",
    "       ex:Amsterdam dbo:populationTotal \"872680\"^^xsd:nonNegativeInteger ."
   ]
  },
  {
   "cell_type": "code",
   "execution_count": 94,
   "metadata": {},
   "outputs": [
    {
     "name": "stdout",
     "output_type": "stream",
     "text": [
      "@prefix ns1: <http://dbpedia.org/ontology/> .\n",
      "@prefix ns2: <http://www.w3.org/2003/01/geo/wgs84_pos#> .\n",
      "\n",
      "<http://example.com/kad/Amsterdam> ns1:population \"907976\" ;\n",
      "    ns2:lat \"52.36666488647461\" ;\n",
      "    ns2:long \"4.900000095367432\" .\n",
      "\n",
      "<http://example.com/kad/Berlin> ns1:population \"3677472\" ;\n",
      "    ns2:lat \"52.52000045776367\" ;\n",
      "    ns2:long \"13.40499973297119\" .\n",
      "\n",
      "<http://example.com/kad/Rotterdam> ns1:population \"651157\" ;\n",
      "    ns2:lat \"51.91666793823242\" ;\n",
      "    ns2:long \"4.5\" .\n",
      "\n",
      "\n"
     ]
    }
   ],
   "source": [
    "h = Graph()\n",
    "ex = namespace = Namespace(\"http://example.com/kad/\")\n",
    "dbo = Namespace(\"http://dbpedia.org/ontology/\")\n",
    "geo = Namespace(\"http://www.w3.org/2003/01/geo/wgs84_pos#\")\n",
    "for city in cities:\n",
    "    DBRUrl = transformToDBR(city)\n",
    "    # print(DBRUrl)\n",
    "\n",
    "    sparql = SPARQLWrapper(\"https://dbpedia.org/sparql\")\n",
    "    sparql.setReturnFormat(JSON)\n",
    "\n",
    "    sparql.setQuery(f\"\"\"\n",
    "            prefix dbo: <http://dbpedia.org/ontology/>\n",
    "            prefix geo: <http://www.w3.org/2003/01/geo/wgs84_pos#>\n",
    "            select ?lat ?long ?population\n",
    "            where {{ <{DBRUrl}> geo:lat ?lat ;\n",
    "                        geo:long ?long .\n",
    "                    optional {{ <{DBRUrl}> dbo:populationTotal ?population }}\n",
    "            }}\n",
    "            \"\"\")\n",
    "\n",
    "    qres = sparql.query().convert()\n",
    "    for row in qres[\"results\"][\"bindings\"]:\n",
    "        lat = row[\"lat\"][\"value\"]        \n",
    "        long = row[\"long\"][\"value\"]\n",
    "        population = row.get(\"population\", {\"value\":\"unknown\"})[\"value\"]\n",
    "    \n",
    "    # print(city, lat, long, population)\n",
    "    h.add((city, dbo.population, Literal(population)))\n",
    "    h.add((city, geo.lat, Literal(lat)))\n",
    "    h.add((city, geo.long, Literal(long)))\n",
    "    \n",
    "serialize_graph(h)\n"
   ]
  },
  {
   "cell_type": "markdown",
   "metadata": {},
   "source": [
    "### C: Save your results\n",
    "\n",
    "- Merge the triples from example-from-slides.ttl with the information extracted from DBpedia. See the [documentation](https://rdflib.readthedocs.io/en/stable/merging.html) on how to accomplish this.\n",
    "- Save all these triples into a new file 'extended-example.ttl'. **It is not necessary to submit this file**\n",
    "- Print all triples in Turtle Syntax.\n"
   ]
  },
  {
   "cell_type": "code",
   "execution_count": 95,
   "metadata": {},
   "outputs": [
    {
     "name": "stdout",
     "output_type": "stream",
     "text": [
      "@prefix ex: <http://example.com/kad/> .\n",
      "@prefix ns1: <http://dbpedia.org/ontology/> .\n",
      "@prefix ns2: <http://www.w3.org/2003/01/geo/wgs84_pos#> .\n",
      "@prefix rdfs: <http://www.w3.org/2000/01/rdf-schema#> .\n",
      "\n",
      "ex:Netherlands a ex:Country ;\n",
      "    ex:contains ex:Ijsselmeer ;\n",
      "    ex:containsCity ex:Rotterdam ;\n",
      "    ex:hasCapital ex:Amsterdam ;\n",
      "    ex:hasName \"The Netherlands\" ;\n",
      "    ex:neighbours ex:Belgium .\n",
      "\n",
      "ex:hasCapital rdfs:range ex:Capital ;\n",
      "    rdfs:subPropertyOf ex:containsCity .\n",
      "\n",
      "ex:neighbours rdfs:subPropertyOf ex:closeBy .\n",
      "\n",
      "ex:Amsterdam a ex:Capital ;\n",
      "    ns1:population \"907976\" ;\n",
      "    ex:closeBy ex:Germany ;\n",
      "    ns2:lat \"52.36666488647461\" ;\n",
      "    ns2:long \"4.900000095367432\" .\n",
      "\n",
      "ex:Belgium a ex:Country .\n",
      "\n",
      "ex:Berlin ns1:population \"3677472\" ;\n",
      "    ns2:lat \"52.52000045776367\" ;\n",
      "    ns2:long \"13.40499973297119\" .\n",
      "\n",
      "ex:EuropeanCountry rdfs:subClassOf ex:Country .\n",
      "\n",
      "ex:Germany a ex:EuropeanCountry ;\n",
      "    ex:hasCapital ex:Berlin .\n",
      "\n",
      "ex:Rotterdam ns1:population \"651157\" ;\n",
      "    ns2:lat \"51.91666793823242\" ;\n",
      "    ns2:long \"4.5\" .\n",
      "\n",
      "ex:closeBy rdfs:domain ex:Location ;\n",
      "    rdfs:range ex:Location .\n",
      "\n",
      "ex:containsCity rdfs:domain ex:Country ;\n",
      "    rdfs:range ex:City ;\n",
      "    rdfs:subPropertyOf ex:contains .\n",
      "\n",
      "ex:Capital rdfs:subClassOf ex:City .\n",
      "\n",
      "ex:City rdfs:subClassOf ex:Location .\n",
      "\n",
      "ex:Country rdfs:subClassOf ex:Location .\n",
      "\n",
      "\n"
     ]
    }
   ],
   "source": [
    "# Your code here\n",
    "mergedGraph = Graph()\n",
    "load_graph(mergedGraph, 'example-from-slides.ttl')\n",
    "save_graph(h, 'sparql-results.ttl')\n",
    "load_graph(mergedGraph, 'sparql-results.ttl')\n",
    "serialize_graph(mergedGraph)\n"
   ]
  },
  {
   "cell_type": "markdown",
   "metadata": {},
   "source": [
    "## Task 2: (25 points)  Implement Basic Inferencing Rules "
   ]
  },
  {
   "cell_type": "markdown",
   "metadata": {},
   "source": [
    "In the lecture we showed that the RDFS inference rules can be used to infer new knowledge. For example, infer class membership based on _rdfs:domain_ or infer relationships between subjects and objects based on _rdfs:subPropertyOf_. \n",
    "\n",
    "Create rules to inference class membership based on the RDF Schema language features \n",
    "*\tFor example: infer that an instance belongs to a class because of domain and range restrictions\n",
    "*\tFor example: infer that an instance belongs to a (super)class because it also belongs to a subclass\n",
    "\n",
    "We implemented the __rdfs2__ rule. You should implement the 5 following remaining rules:  \n",
    "\n",
    "*     (rdfs2) If G contains the triples (aaa rdfs:domain xxx.) and (uuu aaa yyy.)  then infer the triple (uuu rdf:type xxx.)\n",
    "*     (rdfs3) If G contains the triples (aaa rdfs:range xxx.) and (uuu aaa vvv.) then infer the triple (vvv rdf:type xxx .)\n",
    "*     (rdfs5) If G contains the triples (uuu rdfs:subPropertyOf vvv.) and (vvv rdfs:subPropertyOf xxx.) then infer the triple\n",
    "(uuu rdfs:subPropertyOf xxx.) \n",
    "*     (rdfs7) If G contains the triples (aaa rdfs:subPropertyOf bbb.) and (uuu aaa yyy.) then infer the triple (uuu bbb yyy) \n",
    "*     (rdfs9) If G contains the triples (uuu rdfs:subClassOf xxx.) and (vvv rdf:type uuu.) then infer the triple\n",
    " (vvv rdf:type xxx.)   -> this one was not mentioned in the lecture, but is a very important one. \n",
    "*     (rdfs11) If G contains the triples (uuu rdfs:subClassOf vvv.) and (vvv rdfs:subClassOf xxx.) then infer the triple\n",
    "(uuu rdfs:subClassOf xxx.)\n",
    "\n",
    "\n",
    "Run your rule reasoner on your knowledge graph. If you have implemented everything correctly, you should find exactly 17 inferences."
   ]
  },
  {
   "cell_type": "code",
   "execution_count": 96,
   "metadata": {},
   "outputs": [
    {
     "name": "stdout",
     "output_type": "stream",
     "text": [
      "(rdfs 9)  http://example.com/kad/Belgium rdf:type http://example.com/kad/Location\n",
      "(rdfs 9)  http://example.com/kad/Netherlands rdf:type http://example.com/kad/Location\n",
      "(rdfs 3)  http://example.com/kad/Germany rdf:type http://example.com/kad/Location\n",
      "(rdfs 3)  http://example.com/kad/Rotterdam rdf:type http://example.com/kad/City\n",
      "(rdfs 3)  http://example.com/kad/Amsterdam rdf:type http://example.com/kad/Capital\n",
      "(rdfs 3)  http://example.com/kad/Berlin rdf:type http://example.com/kad/Capital\n",
      "(rdfs 9)  http://example.com/kad/Germany rdf:type http://example.com/kad/Country\n",
      "(rdfs 11)  http://example.com/kad/EuropeanCountry rdfs:subClassOf http://example.com/kad/Country\n",
      "(rdfs 7)  Netherlands neighbours Belgium --therefore-->  Netherlands closeBy Belgium\n",
      "(rdfs 2)  http://example.com/kad/Netherlands rdf:type http://example.com/kad/Country\n",
      "(rdfs 9)  http://example.com/kad/Amsterdam rdf:type http://example.com/kad/City\n",
      "(rdfs 11)  http://example.com/kad/Capital rdfs:subClassOf http://example.com/kad/City\n",
      "(rdfs 7)  Netherlands containsCity Rotterdam --therefore-->  Netherlands contains Rotterdam\n",
      "(rdfs 5)  http://example.com/kad/hasCapital rdf:subPropertyOf http://example.com/kad/contains\n",
      "(rdfs 7)  Germany hasCapital Berlin --therefore-->  Germany containsCity Berlin\n",
      "(rdfs 7)  Netherlands hasCapital Amsterdam --therefore-->  Netherlands containsCity Amsterdam\n",
      "(rdfs 2)  http://example.com/kad/Amsterdam rdf:type http://example.com/kad/Location\n",
      "---------------------------------\n",
      "Number of inferred triples: 17\n",
      "---------------------------------\n"
     ]
    }
   ],
   "source": [
    "def myRDFSreasoner(myGraph):\n",
    "    inferredTriples = 0\n",
    "    for sbj, prd, obj in myGraph:\n",
    "        # print(sbj.split(\"/\")[-1], prd.split(\"#\")[-1], obj.split(\"/\")[-1])\n",
    "        # --- rdfs2 ---\n",
    "        if (prd.eq(URIRef(\"http://www.w3.org/2000/01/rdf-schema#domain\"))):\n",
    "            generator = myGraph.subject_objects(URIRef(sbj))\n",
    "            for s, o in generator:\n",
    "                inferredTriples += 1\n",
    "                print(\"(rdfs 2) \", s, \"rdf:type\", obj)\n",
    "        \n",
    "        \n",
    "        # --- rdfs3 ---\n",
    "\n",
    "        if (prd.eq(URIRef(\"http://www.w3.org/2000/01/rdf-schema#range\"))):\n",
    "            generator = myGraph.subject_objects(URIRef(sbj))\n",
    "            for s, o in generator:\n",
    "                inferredTriples += 1\n",
    "                print(\"(rdfs 3) \", o, \"rdf:type\", obj)\n",
    "        \n",
    "        # --- rdfs5 ---\n",
    "\n",
    "        if (prd.eq(URIRef(\"http://www.w3.org/2000/01/rdf-schema#subPropertyOf\"))):\n",
    "                for sbj2, prd2, obj2 in myGraph:\n",
    "                    if (prd2.eq(URIRef(\"http://www.w3.org/2000/01/rdf-schema#subPropertyOf\")) and obj.eq(sbj2)):\n",
    "                        inferredTriples += 1\n",
    "                        print(\"(rdfs 5) \", sbj, \"rdf:subPropertyOf\", obj2)\n",
    "        \n",
    "        \n",
    "        # --- rdfs7 ---\n",
    "\n",
    "        if (prd.eq(URIRef(\"http://www.w3.org/2000/01/rdf-schema#subPropertyOf\"))):\n",
    "            # print (\"Found rdfs:subPropertyOf triple:\", sbj, prd, obj)\n",
    "            for sbj2, prd2, obj2 in myGraph:\n",
    "                if (prd2.eq(sbj)):\n",
    "                        #  print(\"Found triple with subproperty:\", sbj2, sbj, obj2)\n",
    "                         inferredTriples += 1\n",
    "                         print(\"(rdfs 7) \", sbj2.split(\"/\")[-1], sbj.split(\"/\")[-1], obj2.split(\"/\")[-1], \"--therefore--> \", sbj2.split(\"/\")[-1], obj.split(\"/\")[-1], obj2.split(\"/\")[-1])\n",
    "            \n",
    "        \n",
    "        # --- rdfs9 ---\n",
    "        \n",
    "        if (prd.eq(URIRef(\"http://www.w3.org/2000/01/rdf-schema#subClassOf\"))):\n",
    "            # print(\"Found rdfs:subClassOf triple:\", sbj, prd, obj)\n",
    "            generator = myGraph.subject_objects(URIRef(sbj))\n",
    "            for sbj2, prd2, obj2 in myGraph:\n",
    "                # print (s, obj2, sbj)\n",
    "                if (obj2 == sbj and prd2.eq(URIRef(\"http://www.w3.org/1999/02/22-rdf-syntax-ns#type\"))):\n",
    "                    inferredTriples += 1\n",
    "                    # print(prd2)\n",
    "                    print(\"(rdfs 9) \", sbj2, \"rdf:type\", obj)\n",
    "\n",
    "                    \n",
    "\n",
    "        # --- rdfs11 ---\n",
    "\n",
    "        if (prd.eq(URIRef(\"http://www.w3.org/2000/01/rdf-schema#subClassOf\"))):\n",
    "                for sbj2, prd2, obj2 in myGraph:\n",
    "                    if (prd2.eq(URIRef(\"http://www.w3.org/2000/01/rdf-schema#subClassOf\")) and obj.eq(sbj2)):\n",
    "                        inferredTriples += 1\n",
    "                        print(\"(rdfs 11) \", sbj, \"rdfs:subClassOf\", obj)\n",
    "\n",
    "                        \n",
    "    print(\"---------------------------------\")\n",
    "    print(\"Number of inferred triples:\", inferredTriples)\n",
    "    print(\"---------------------------------\")\n",
    "    \n",
    "myRDFSreasoner(g)  # test your reasoner"
   ]
  },
  {
   "cell_type": "markdown",
   "metadata": {},
   "source": [
    "## Task 3: (20 points) Build your very own RDFS knowledge graph. \n"
   ]
  },
  {
   "cell_type": "markdown",
   "metadata": {},
   "source": [
    "Define a small RDF Schema vocabulary in Turtle. You can choose your own domain (e.g. movies, geography, sports), as long as it hasn't been used as an example during the lectures. The following rules must be respected:\n",
    "*\tThe schema should define at least 4 classes, 4 properties, and 4 instances.\n",
    "*   The properties should be used to relate the instances (i.e., object-type relations)\n",
    "*\tThe instances should be members of at least one of the 4 defined classes\n",
    "*\tAll resources should have an rdfs:label attribute in a suitable language.\n",
    "\n",
    "You should use (at least) the following language features of RDF and RDFS:\n",
    "* \trdf:type (or 'a')\n",
    "* \trdfs:subClassOf\n",
    "* \trdfs:subPropertyOf\n",
    "* \trdfs:domain and rdfs:range\n",
    "*\trdfs:label\n",
    "\n",
    "Be sure to define the 'rdf:' and 'rdfs:' namespace prefixes for RDF and RDF Schema in your file (perhaps have a look at http://prefix.cc)\n",
    "\n",
    "For creating your vocabulary you should add the axioms directly (programatically) to your Knowledge Graph as you did last week. \n",
    "\n",
    "Play around with the inference rules you have created in the previous task to make sure that you added some implicit knowledge, that becomes \"visible\" via inferencing (this will be useful for the next task). \n",
    "\n",
    "Finally:\n",
    "- Add the knowledge you created into the RDFlib graph datastructure *myRDFSgraph*, \n",
    "- Print *myRDFSgraph* in Turtle so that we can check your \"design\"\n",
    "- Save *myRDFSgraph* into a new file 'myRDFSgraph.ttl' (it is not necessary to submit this file)"
   ]
  },
  {
   "cell_type": "code",
   "execution_count": 97,
   "metadata": {},
   "outputs": [
    {
     "name": "stdout",
     "output_type": "stream",
     "text": [
      "@prefix ex: <http://example.com/vrijeuniversiteit/> .\n",
      "@prefix rdf: <http://www.w3.org/1999/02/22-rdf-syntax-ns#> .\n",
      "@prefix rdfs: <http://www.w3.org/2000/01/rdf-schema#> .\n",
      "\n",
      "ex:Course a rdfs:Class ;\n",
      "    rdfs:label \"Course\"@en .\n",
      "\n",
      "ex:Faculty a rdfs:Class ;\n",
      "    rdfs:label \"Faculty\"@en .\n",
      "\n",
      "ex:Professor a rdfs:Class ;\n",
      "    rdfs:label \"Professor\"@en ;\n",
      "    rdfs:subClassOf ex:Staff .\n",
      "\n",
      "ex:Staff a rdfs:Class ;\n",
      "    rdfs:label \"Staff Team\"@en .\n",
      "\n",
      "ex:Student a rdfs:Class ;\n",
      "    rdfs:label \"Student\"@en .\n",
      "\n",
      "ex:Beta a ex:Faculty ;\n",
      "    rdfs:label \"Beta Faculty\"@en ;\n",
      "    ex:offersCourse ex:DataScience .\n",
      "\n",
      "ex:John a ex:Professor ;\n",
      "    rdfs:label \"John\"@en ;\n",
      "    ex:teaches ex:DataScience .\n",
      "\n",
      "ex:Wick rdfs:label \"Wick\"@en ;\n",
      "    ex:enrolledIn ex:DataScience ;\n",
      "    ex:studiesAt ex:VU .\n",
      "\n",
      "ex:enrolledIn a rdf:Property ;\n",
      "    rdfs:label \"enrolled in\"@en ;\n",
      "    rdfs:domain ex:Student ;\n",
      "    rdfs:range ex:Course ;\n",
      "    rdfs:subPropertyOf ex:studiesCourse .\n",
      "\n",
      "ex:offersCourse a rdf:Property ;\n",
      "    rdfs:label \"offers course\"@en ;\n",
      "    rdfs:domain ex:Faculty ;\n",
      "    rdfs:range ex:Course .\n",
      "\n",
      "ex:studiesAt a rdf:Property ;\n",
      "    rdfs:label \"studies\"@en,\n",
      "        \"studies at\"@en ;\n",
      "    rdfs:domain ex:Student ;\n",
      "    rdfs:range ex:Course,\n",
      "        ex:Faculty .\n",
      "\n",
      "ex:teaches a rdf:Property ;\n",
      "    rdfs:label \"teaches\"@en ;\n",
      "    rdfs:domain ex:Professor ;\n",
      "    rdfs:range ex:Course .\n",
      "\n",
      "ex:VU a ex:Faculty ;\n",
      "    rdfs:label \"Vrije Universiteit Amsterdam\"@en .\n",
      "\n",
      "ex:DataScience a ex:Course ;\n",
      "    rdfs:label \"Data Science\"@en .\n",
      "\n",
      "\n",
      "Now let's check what we can infer from your knowledge graph...\n",
      "The more rules you cover, the better!\n",
      "(rdfs 3)  http://example.com/vrijeuniversiteit/DataScience rdf:type http://example.com/vrijeuniversiteit/Course\n",
      "(rdfs 2)  http://example.com/vrijeuniversiteit/Wick rdf:type http://example.com/vrijeuniversiteit/Student\n",
      "(rdfs 2)  http://example.com/vrijeuniversiteit/John rdf:type http://example.com/vrijeuniversiteit/Professor\n",
      "(rdfs 9)  http://example.com/vrijeuniversiteit/John rdf:type http://example.com/vrijeuniversiteit/Staff\n",
      "(rdfs 3)  http://example.com/vrijeuniversiteit/DataScience rdf:type http://example.com/vrijeuniversiteit/Course\n",
      "(rdfs 3)  http://example.com/vrijeuniversiteit/VU rdf:type http://example.com/vrijeuniversiteit/Course\n",
      "(rdfs 7)  Wick enrolledIn DataScience --therefore-->  Wick studiesCourse DataScience\n",
      "(rdfs 3)  http://example.com/vrijeuniversiteit/DataScience rdf:type http://example.com/vrijeuniversiteit/Course\n",
      "(rdfs 2)  http://example.com/vrijeuniversiteit/Wick rdf:type http://example.com/vrijeuniversiteit/Student\n",
      "(rdfs 2)  http://example.com/vrijeuniversiteit/Beta rdf:type http://example.com/vrijeuniversiteit/Faculty\n",
      "(rdfs 3)  http://example.com/vrijeuniversiteit/VU rdf:type http://example.com/vrijeuniversiteit/Faculty\n",
      "---------------------------------\n",
      "Number of inferred triples: 11\n",
      "---------------------------------\n"
     ]
    }
   ],
   "source": [
    "myRDFSgraph = Graph()\n",
    "\n",
    "ex = Namespace(\"http://example.com/vrijeuniversiteit/\")\n",
    "myRDFSgraph.bind(\"ex\", ex)\n",
    "myRDFSgraph.bind(\"rdf\", RDF)\n",
    "myRDFSgraph.bind(\"rdfs\", RDFS)\n",
    "\n",
    "# --- Classes ---\n",
    "myRDFSgraph.add((ex.Professor, RDF.type, RDFS.Class))\n",
    "myRDFSgraph.add((ex.Professor, RDFS.label, Literal(\"Professor\", lang=\"en\")))\n",
    "myRDFSgraph.add((ex.Faculty, RDF.type, RDFS.Class))\n",
    "myRDFSgraph.add((ex.Faculty, RDFS.label, Literal(\"Faculty\", lang=\"en\")))\n",
    "myRDFSgraph.add((ex.Course, RDF.type, RDFS.Class))\n",
    "myRDFSgraph.add((ex.Course, RDFS.label, Literal(\"Course\", lang=\"en\")))\n",
    "myRDFSgraph.add((ex.Student, RDF.type, RDFS.Class))\n",
    "myRDFSgraph.add((ex.Student, RDFS.label, Literal(\"Student\", lang=\"en\")))\n",
    "\n",
    "# Professor is a subclass of Staff\n",
    "myRDFSgraph.add((ex.Professor, RDFS.subClassOf, ex.Staff))\n",
    "myRDFSgraph.add((ex.Staff, RDF.type, RDFS.Class))\n",
    "myRDFSgraph.add((ex.Staff, RDFS.label, Literal(\"Staff Team\", lang=\"en\")))\n",
    "\n",
    "# --- Properties ---\n",
    "# Professer teaches course (Domain and Range)\n",
    "myRDFSgraph.add((ex.teaches, RDF.type, RDF.Property))\n",
    "myRDFSgraph.add((ex.teaches, RDFS.domain, ex.Professor))\n",
    "myRDFSgraph.add((ex.teaches, RDFS.range, ex.Course))\n",
    "myRDFSgraph.add((ex.teaches, RDFS.label, Literal(\"teaches\", lang=\"en\")))\n",
    "\n",
    "# Student studies at faculty (Domain and Range)\n",
    "myRDFSgraph.add((ex.studiesAt, RDF.type, RDF.Property))\n",
    "myRDFSgraph.add((ex.studiesAt, RDFS.domain, ex.Student))\n",
    "myRDFSgraph.add((ex.studiesAt, RDFS.range, ex.Faculty))\n",
    "myRDFSgraph.add((ex.studiesAt, RDFS.label, Literal(\"studies at\", lang=\"en\")))\n",
    "\n",
    "# Student studies Course (Domain and Range)\n",
    "myRDFSgraph.add((ex.studiesAt, RDF.type, RDF.Property))\n",
    "myRDFSgraph.add((ex.studiesAt, RDFS.domain, ex.Student))\n",
    "myRDFSgraph.add((ex.studiesAt, RDFS.range, ex.Course))\n",
    "myRDFSgraph.add((ex.studiesAt, RDFS.label, Literal(\"studies\", lang=\"en\")))\n",
    "\n",
    "# Faculty offers course (Domain and Range)\n",
    "myRDFSgraph.add((ex.offersCourse, RDF.type, RDF.Property))\n",
    "myRDFSgraph.add((ex.offersCourse, RDFS.domain, ex.Faculty))\n",
    "myRDFSgraph.add((ex.offersCourse, RDFS.range, ex.Course))\n",
    "myRDFSgraph.add((ex.offersCourse, RDFS.label, Literal(\"offers course\", lang=\"en\")))\n",
    "\n",
    "# Student enrolled in course (Domain and Range)\n",
    "# Student enrolled in course is a subPropertyOf Student studies course\n",
    "myRDFSgraph.add((ex.enrolledIn, RDF.type, RDF.Property))\n",
    "myRDFSgraph.add((ex.enrolledIn, RDFS.domain, ex.Student))\n",
    "myRDFSgraph.add((ex.enrolledIn, RDFS.range, ex.Course))\n",
    "myRDFSgraph.add((ex.enrolledIn, RDFS.subPropertyOf, ex.studiesCourse))\n",
    "myRDFSgraph.add((ex.enrolledIn, RDFS.label, Literal(\"enrolled in\", lang=\"en\")))\n",
    "\n",
    "# --- Instances ---\n",
    "\n",
    "myRDFSgraph.add((ex.John, RDF.type, ex.Professor))\n",
    "myRDFSgraph.add((ex.John, RDFS.label, Literal(\"John\", lang=\"en\")))\n",
    "myRDFSgraph.add((ex.Wick, RDFS.label, Literal(\"Wick\", lang=\"en\")))\n",
    "myRDFSgraph.add((ex.VU, RDF.type, ex.Faculty))\n",
    "myRDFSgraph.add((ex.VU, RDFS.label, Literal(\"Vrije Universiteit Amsterdam\", lang=\"en\")))\n",
    "myRDFSgraph.add((ex.Beta, RDF.type, ex.Faculty))\n",
    "myRDFSgraph.add((ex.Beta, RDFS.label, Literal(\"Beta Faculty\", lang=\"en\")))\n",
    "myRDFSgraph.add((ex.DataScience, RDF.type, ex.Course))\n",
    "myRDFSgraph.add((ex.DataScience, RDFS.label, Literal(\"Data Science\", lang=\"en\")))\n",
    "\n",
    "# --- Relations ---\n",
    "myRDFSgraph.add((ex.John, ex.teaches, ex.DataScience))\n",
    "myRDFSgraph.add((ex.Wick, ex.enrolledIn, ex.DataScience))\n",
    "myRDFSgraph.add((ex.Wick, ex.studiesAt, ex.VU))\n",
    "myRDFSgraph.add((ex.Beta, ex.offersCourse, ex.DataScience))\n",
    "\n",
    "serialize_graph(myRDFSgraph)\n",
    "save_graph(myRDFSgraph, \"myRDFSgraph.ttl\")\n",
    "\n",
    "print(\"Now let's check what we can infer from your knowledge graph...\")\n",
    "print(\"The more rules you cover, the better!\")\n",
    "myRDFSreasoner(myRDFSgraph)"
   ]
  },
  {
   "cell_type": "markdown",
   "metadata": {},
   "source": [
    "## Task 4 (20 points) Compare local inferences with GraphDB results"
   ]
  },
  {
   "cell_type": "markdown",
   "metadata": {},
   "source": [
    "Upload *myRDFSgraph.ttl* to GraphDB (check [the GraphDB tutorial](https://github.com/ucds-ex.VU/knowledge-data-ex.VU/blob/master/Tutorials/Preliminaries/tutorial-GraphDB.md) before starting to work with GraphDB).\n",
    "\n",
    "Formulate two different SPARQL queries, and write a Python code that executes these queries over your GraphDB SPARQL endpoint (check example of Task 1).\n",
    "\n",
    "**Each SPARQL query should return a _different type_ of inferred knowledge** (at least one triple that was not explicitly asserted in the graph).\n",
    "\n",
    "Specify below next to your query (using a comment '# ...') which type of RDFS rule is the GraphDB reasoner using to infer this answer (rdfs2, rdfs3, rdfs5, rdfs7, rdfs9, rdfs11). "
   ]
  },
  {
   "cell_type": "code",
   "execution_count": 98,
   "metadata": {},
   "outputs": [],
   "source": [
    "# Get your GraphDB repository URL (setup -> repositories -> repository url) and assign it to the variable 'myEndpoint' below. \n",
    "# It should be similar to this: \n",
    "\n",
    "myEndpoint = \"http://127.0.0.1:7200/repositories/KnowledgeAndData\"  # KnowledgeAndData is the name of the repository\n",
    "sparql = SPARQLWrapper(myEndpoint)\n",
    "sparql.setReturnFormat(JSON)"
   ]
  },
  {
   "cell_type": "code",
   "execution_count": 99,
   "metadata": {},
   "outputs": [
    {
     "name": "stdout",
     "output_type": "stream",
     "text": [
      "It is implied that John is a Staff member\n"
     ]
    }
   ],
   "source": [
    "# Query 1 - Specify which RDFS rule are you testing: \n",
    "# Check example of Task 1 on how to query remote SPARQL endpoints\n",
    "\n",
    "sparql.setQuery(\"\"\"\n",
    "        prefix rdf: <http://www.w3.org/1999/02/22-rdf-syntax-ns#>\n",
    "        prefix vu: <http://example.com/vrijeuniversiteit/> \n",
    "        prefix rdfs: <http://www.w3.org/2000/01/rdf-schema#>\n",
    "        select ?person\n",
    "        where { ?person rdf:type vu:Staff }\n",
    "        limit 10\n",
    "        \"\"\")\n",
    "        \n",
    "qres = sparql.query().convert()\n",
    "for row in qres[\"results\"][\"bindings\"]:\n",
    "    person = row[\"person\"][\"value\"]       \n",
    "    print(\"It is implied that\", person.split(\"/\")[-1], \"is a Staff member\")  # RDFS rule 9 (Inferred from Professor is a subclass of Staff)"
   ]
  },
  {
   "cell_type": "code",
   "execution_count": 100,
   "metadata": {},
   "outputs": [
    {
     "name": "stdout",
     "output_type": "stream",
     "text": [
      "It is implied that Wick is a Student\n"
     ]
    }
   ],
   "source": [
    "# Query 2 - Specify which RDFS rule are you testing: \n",
    "# Check example of Task 1 on how to query remote SPARQL endpoints\n",
    "\n",
    "sparql.setQuery(\"\"\"\n",
    "        prefix rdf: <http://www.w3.org/1999/02/22-rdf-syntax-ns#>\n",
    "        prefix vu: <http://example.com/vrijeuniversiteit/> \n",
    "        prefix rdfs: <http://www.w3.org/2000/01/rdf-schema#>\n",
    "        select ?person\n",
    "        where { ?person rdf:type vu:Student }\n",
    "        limit 10\n",
    "        \"\"\")\n",
    "        \n",
    "qres = sparql.query().convert()\n",
    "for row in qres[\"results\"][\"bindings\"]:\n",
    "    person = row[\"person\"][\"value\"]       \n",
    "    print(\"It is implied that\", person.split(\"/\")[-1], \"is a Student\")  # RDFS rule 2 (Inferred from domain of 'enrolledIn' and 'studiesAt')"
   ]
  },
  {
   "cell_type": "markdown",
   "metadata": {},
   "source": [
    "## Submitting the assignment\n",
    "\n",
    "Please submit this notebook (.ipynb) once you're finished with the assignment. It is not necessary to submit the created turtle files."
   ]
  }
 ],
 "metadata": {
  "kernelspec": {
   "display_name": "Python 3",
   "language": "python",
   "name": "python3"
  },
  "language_info": {
   "codemirror_mode": {
    "name": "ipython",
    "version": 3
   },
   "file_extension": ".py",
   "mimetype": "text/x-python",
   "name": "python",
   "nbconvert_exporter": "python",
   "pygments_lexer": "ipython3",
   "version": "3.11.9"
  }
 },
 "nbformat": 4,
 "nbformat_minor": 4
}
